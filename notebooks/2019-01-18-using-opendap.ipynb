{
 "cells": [
  {
   "cell_type": "markdown",
   "metadata": {},
   "source": [
    "## Using OPeNDAP to access data remotely: MUR example"
   ]
  },
  {
   "cell_type": "markdown",
   "metadata": {},
   "source": [
    "One of our researcher asked me recently to download the MUR (Multi-scale Ultra-high Resolution SST) dataset. She is interested in all the available period but only for a small region. This dataset is relatively small but has many files (several for each day across 19 years) and it is updated frequently. This means that we would also have to update and check the dataset frequently and the files would be stored across several sub-directories making the access more complicated. <br><br>\n",
    "Fortunately this data is available via OPeNDAP. OPeNDAP is a web-based software that allows users to access datasets remotely. Many softwares used for analysis recognise an OPeNDAP url as a filename. A OPeNDAP url is usually constituted by the remote address of the file followed by optional constraints.<br><br>\n",
    "This is one of the advantages of OPeNDAP you don't need to download a file before using it, you can simply subset the portion you need and the software you are using will load only the data you need. Next time you run the same analysis, if the data has been updated, you will be automatically using the updated dataset.<br><br>\n"
   ]
  },
  {
   "cell_type": "markdown",
   "metadata": {},
   "source": [
    "### OPeNDAP url\n",
    "Let's check an example using a test server:\n",
    "http://test.opendap.org:80/opendap/data/nc/sst.mnmean.nc.gz\n",
    "http://test.opendap.org:80/opendap/data/nc/sst.mnmean.nc.gz?sst[10:2:18][10:1:28][100:1:120],time,lon,lat\n",
    "If you copy and paste the above url in your browser you will see what an OPeNDAP form looks like.\n",
    "Let's split this url:<br>\n",
    "test.opendap.org:80/opendap/data\n",
    "is the root of the opendap catalogue, starting from this url you can browse down the available subdirectories, in our case \"nc\" indicating netcdf files;<br>\n",
    "finally the filename\n",
    "sst.mnmean.nc.gz<br>\n",
    "Note in this example the file is compressed with gzip, opendap can access compressed files without needing you to download and uncompress them before.\n",
    "If you want to select only some variables you can do so by adding some constraints:<br>\n",
    "?sst,lat <br>\n",
    "The constraints syntax is a question mark followed by a list of variables.\n",
    "Each variable is separated by a comma and can be indexed, for example\n",
    "?sst[10:2:18][10:1:28][100:1:120] will return a subset of the sst array with:\n",
    " * only every 2 timesteps from index 10 to 18\n",
    " * lat from index 10 to 28 included\n",
    " * lon from index 100 to 120 included\n",
    "\n",
    "You don't need to subset a variable or even specify any of them. It is useful when you want to select only a region or a time range. <br>\n",
    "The downside is that usually you have to first retrieve the dimensions to work out which indexes to use.<br>\n",
    "We will see now how using xarray and python can help you skip this step.<br>"
   ]
  },
  {
   "cell_type": "markdown",
   "metadata": {},
   "source": [
    "### Accessing OPeNDAP in python with xarray\n",
    "\n",
    "I am using xarray to open the file, load the data and select the time and lat/lon ranges. <br>\n",
    "siphon is used to work out a list of all the files from the opendap catalogue.<br>"
   ]
  },
  {
   "cell_type": "code",
   "execution_count": 1,
   "metadata": {},
   "outputs": [
    {
     "ename": "ModuleNotFoundError",
     "evalue": "No module named 'xarray'",
     "output_type": "error",
     "traceback": [
      "\u001b[0;31m---------------------------------------------------------------------------\u001b[0m",
      "\u001b[0;31mModuleNotFoundError\u001b[0m                       Traceback (most recent call last)",
      "\u001b[0;32m<ipython-input-1-d8687d7910cd>\u001b[0m in \u001b[0;36m<module>\u001b[0;34m()\u001b[0m\n\u001b[0;32m----> 1\u001b[0;31m \u001b[0;32mimport\u001b[0m \u001b[0mxarray\u001b[0m \u001b[0;32mas\u001b[0m \u001b[0mxa\u001b[0m\u001b[0;34m\u001b[0m\u001b[0m\n\u001b[0m\u001b[1;32m      2\u001b[0m \u001b[0;31m#import siphon\u001b[0m\u001b[0;34m\u001b[0m\u001b[0;34m\u001b[0m\u001b[0m\n",
      "\u001b[0;31mModuleNotFoundError\u001b[0m: No module named 'xarray'"
     ]
    }
   ],
   "source": [
    "import xarray as xa\n",
    "#import siphon"
   ]
  },
  {
   "cell_type": "markdown",
   "metadata": {},
   "source": [
    "Opening one file and selecting the region"
   ]
  },
  {
   "cell_type": "code",
   "execution_count": 10,
   "metadata": {
    "collapsed": true
   },
   "outputs": [],
   "source": [
    "file=\"https://podaac-opendap.jpl.nasa.gov/opendap/allData/ghrsst/data/GDS2/L4/GLOB/JPL/MUR/v4.1/2002/152/20020601090000-JPL-L4_GHRSST-SSTfnd-MUR-GLOB-v02.0-fv04.1.nc\""
   ]
  },
  {
   "cell_type": "markdown",
   "metadata": {},
   "source": [
    "If I know exactly which indexes I'm interested into i could add a constraints to the url above and get back only a subset of the dataset.<br>\n",
    "Since we are using xarray which doesn't load the data until you tell him to do so we don't even have to worry about that."
   ]
  },
  {
   "cell_type": "code",
   "execution_count": 11,
   "metadata": {
    "collapsed": true
   },
   "outputs": [],
   "source": [
    "data = xa.open_dataset(file)"
   ]
  },
  {
   "cell_type": "markdown",
   "metadata": {},
   "source": [
    "I can select the sst variable and a specific region using latitude and longitude values simply as I would after loading data from a netcdf file. In fact xarray showed me the variable names and dimensions after I \"connected\" to the remote virtual file. "
   ]
  },
  {
   "cell_type": "code",
   "execution_count": 12,
   "metadata": {
    "collapsed": true
   },
   "outputs": [],
   "source": [
    "sst=data['analysed_sst'].sel(lat=slice(-53.99,-14), lon=slice(140,170))\n",
    "sst"
   ]
  },
  {
   "cell_type": "markdown",
   "metadata": {},
   "source": [
    "### Aggregated virtual files\n",
    "\n",
    "Another powerful feature of OPeNDAP is that it works also with virtually aggregated datasets. This sounds complicated but all you need to know is that a multi files dataset can be made visible as a single file, you can then access potentially thousands of files via a single url. <br><br>\n",
    "MUR dataset is available as a virtually aggregated file so we can use this version of the data to get the complete SST timeseries from one url only."
   ]
  },
  {
   "cell_type": "code",
   "execution_count": 54,
   "metadata": {
    "collapsed": true
   },
   "outputs": [],
   "source": [
    "aggr_url = \"https://thredds.jpl.nasa.gov/thredds/dodsC/OceanTemperature/MUR-JPL-L4-GLOB-v4.1.nc\"\n",
    "data = xa.open_dataset(aggr_url)"
   ]
  },
  {
   "cell_type": "markdown",
   "metadata": {},
   "source": [
    "I loaded the data in the same way and I'm going to select sst and the region IO'm interested into in exactly the same way"
   ]
  },
  {
   "cell_type": "code",
   "execution_count": 56,
   "metadata": {
    "collapsed": true
   },
   "outputs": [],
   "source": [
    "sst=data['analysed_sst'].sel(lat=slice(-53.99,-14), lon=slice(140,170))\n",
    "sst"
   ]
  },
  {
   "cell_type": "markdown",
   "metadata": {},
   "source": [
    "## Using siphon to find out all the available files for the years 2002 to 2018"
   ]
  },
  {
   "cell_type": "code",
   "execution_count": 14,
   "metadata": {
    "collapsed": true
   },
   "outputs": [],
   "source": [
    "dap_url = \"https://podaac-opendap.jpl.nasa.gov/opendap/allData/ghrsst/data/GDS2/L4/GLOB/JPL/MUR/v4.1/\"\n",
    "aggr_url = \"https://thredds.jpl.nasa.gov/thredds/catalog_ghrsst_gds2.html?dataset=MUR-JPL-L4-GLOB-v4.1\""
   ]
  },
  {
   "cell_type": "code",
   "execution_count": 15,
   "metadata": {
    "collapsed": true
   },
   "outputs": [],
   "source": [
    "from siphon.catalog import TDSCatalog"
   ]
  },
  {
   "cell_type": "code",
   "execution_count": 30,
   "metadata": {
    "collapsed": true
   },
   "outputs": [],
   "source": [
    "root_url = \"https://thredds.jpl.nasa.gov/thredds/catalog.xml\"\n",
    "tds_url=\"https://thredds.jpl.nasa.gov/thredds/catalog_ghrsst_gds2.xml?dataset=MUR-JPL-L4-GLOB-v4.1\""
   ]
  },
  {
   "cell_type": "code",
   "execution_count": 32,
   "metadata": {},
   "outputs": [
    {
     "name": "stdout",
     "output_type": "stream",
     "text": [
      "['__class__', '__delattr__', '__dict__', '__dir__', '__doc__', '__eq__', '__format__', '__ge__', '__getattribute__', '__gt__', '__hash__', '__init__', '__init_subclass__', '__le__', '__lt__', '__module__', '__ne__', '__new__', '__reduce__', '__reduce_ex__', '__repr__', '__setattr__', '__sizeof__', '__str__', '__subclasshook__', '__weakref__', '_process_catalog_ref', '_process_dataset', '_process_datasets', '_process_metadata', 'base_tds_url', 'catalog_name', 'catalog_refs', 'catalog_url', 'datasets', 'ds_with_access_elements_to_process', 'latest', 'metadata', 'services']\n"
     ]
    }
   ],
   "source": [
    "cat = TDSCatalog(tds_url)\n",
    "print(dir(cat))"
   ]
  },
  {
   "cell_type": "code",
   "execution_count": 48,
   "metadata": {},
   "outputs": [
    {
     "name": "stdout",
     "output_type": "stream",
     "text": [
      "['MUR-JPL-L4-GLOB-v4.1 Aggregation']\n",
      "all Compound\n",
      "all_With_http Compound\n",
      "['__class__', '__delattr__', '__dict__', '__dir__', '__doc__', '__eq__', '__format__', '__ge__', '__getattribute__', '__gt__', '__hash__', '__init__', '__init_subclass__', '__le__', '__lt__', '__module__', '__ne__', '__new__', '__reduce__', '__reduce_ex__', '__repr__', '__setattr__', '__sizeof__', '__str__', '__subclasshook__', '__weakref__', '_resolved', '_resolverUrl', 'access_element_info', 'access_urls', 'access_with_service', 'add_access_element_info', 'catalog_name', 'download', 'make_access_urls', 'name', 'ncssServiceNames', 'remote_access', 'remote_open', 'resolve_url', 'subset', 'url_path']\n"
     ]
    }
   ],
   "source": [
    "print(cat.datasets)\n",
    "for s in cat.services:\n",
    "    print(s.name,s.service_type)\n",
    "print(dir(cat.datasets[0])) \n",
    "mur_url = cat.datasets[0].url_path"
   ]
  },
  {
   "cell_type": "code",
   "execution_count": 50,
   "metadata": {},
   "outputs": [
    {
     "name": "stdout",
     "output_type": "stream",
     "text": [
      "OceanTemperature/MUR-JPL-L4-GLOB-v4.1.nc\n"
     ]
    }
   ],
   "source": []
  },
  {
   "cell_type": "code",
   "execution_count": null,
   "metadata": {
    "collapsed": true
   },
   "outputs": [],
   "source": []
  }
 ],
 "metadata": {
  "kernelspec": {
   "display_name": "Python 3",
   "language": "python",
   "name": "python3"
  },
  "language_info": {
   "codemirror_mode": {
    "name": "ipython",
    "version": 3
   },
   "file_extension": ".py",
   "mimetype": "text/x-python",
   "name": "python",
   "nbconvert_exporter": "python",
   "pygments_lexer": "ipython3",
   "version": "3.6.2"
  }
 },
 "nbformat": 4,
 "nbformat_minor": 2
}
