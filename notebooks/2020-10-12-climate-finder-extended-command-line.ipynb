{
 "cells": [
  {
   "cell_type": "markdown",
   "metadata": {},
   "source": [
    "# Using CleF 2: advanced command line functionalities"
   ]
  },
  {
   "cell_type": "markdown",
   "metadata": {},
   "source": [
    "In the first CleF blog we covered the basic command line options:\n",
    "\n",
    "  + exploring the command and sub-commands options\n",
    "  + passing constraints to query CMIP5 and/or CMIP6 data\n",
    "  + searching only the locally stored data or the ESGF published collection\n",
    "  + how to check which data has been published but not yet downloaded locally\n",
    "  + and finally how to request for data to be downloaded.\n",
    "   <br>\n",
    "   \n",
    "In the next blog we will see how to use CleF functions directly in your own python scripts. In this blog we are still focusing on the command line and in particular on how to:\n",
    " \n",
    " + save the query results as a csv file\n",
    " + get a summary of available data\n",
    " + run more complex queries\n",
    " + get extra information from the ESDOC documentation such as errata and citations <br>\n",
    "\n",
    "A reminder that CleF is currently installed in the CMS conda modules analysis3 (stable version) and analysis3-unstable (latest version). This is managed by the CMS team and is available simply by running\n",
    "  >  module use /g/data3/hh5/public/modules <br>\n",
    "  >  module load conda/analysis3\n",
    "  "
   ]
  },
  {
   "cell_type": "code",
   "execution_count": 1,
   "metadata": {},
   "outputs": [
    {
     "name": "stdout",
     "output_type": "stream",
     "text": [
      "Important Note. git/2.9.5 is not compatible with matlab.\n",
      "Make sure you do not have a matlab module loaded when using this version of git\n",
      "Important Note. git/2.9.5 is not compatible with matlab.\n",
      "Make sure you do not have a matlab module loaded when using this version of git\n"
     ]
    }
   ],
   "source": [
    "# run this if you haven't done so already in the terminal\n",
    "!module use /g/data3/hh5/public/modules\n",
    "!module load conda/analysis3-unstable"
   ]
  },
  {
   "cell_type": "markdown",
   "metadata": {},
   "source": [
    "### CSV file output"
   ]
  },
  {
   "cell_type": "markdown",
   "metadata": {},
   "source": [
    "The *--csv* option added to the command line will output the query results in a csv file. Rather than getting only the files path, it will list all the available attributes.<br>\n",
    "This currently works only with the *--local* and *--remote* option, it doesn't yet work for the standard search, which is basically a combination of the two."
   ]
  },
  {
   "cell_type": "code",
   "execution_count": 1,
   "metadata": {},
   "outputs": [
    {
     "name": "stdout",
     "output_type": "stream",
     "text": [
      "/g/data/al33/replicas/CMIP5/combined/BCC/bcc-csm1-1-m/piControl/mon/atmos/Amon/r1i1p1/v20120705/pr\r\n",
      "/g/data/al33/replicas/CMIP5/combined/BCC/bcc-csm1-1/piControl/mon/atmos/Amon/r1i1p1/v1/pr\r\n",
      "/g/data/al33/replicas/CMIP5/combined/BNU/BNU-ESM/piControl/mon/atmos/Amon/r1i1p1/v20120626/pr\r\n",
      "/g/data/al33/replicas/CMIP5/combined/CCCma/CanESM2/piControl/mon/atmos/Amon/r1i1p1/v20120412/pr\r\n",
      "/g/data/al33/replicas/CMIP5/combined/CCCma/CanESM2/piControl/mon/atmos/Amon/r1i1p1/v20120623/pr\r\n",
      "/g/data/al33/replicas/CMIP5/combined/CMCC/CMCC-CESM/piControl/mon/atmos/Amon/r1i1p1/v20121023/pr\r\n",
      "/g/data/al33/replicas/CMIP5/combined/CMCC/CMCC-CESM/piControl/mon/atmos/Amon/r1i1p1/v20170725/pr\r\n",
      "/g/data/al33/replicas/CMIP5/combined/CMCC/CMCC-CM/piControl/mon/atmos/Amon/r1i1p1/v20121008/pr\r\n",
      "/g/data/al33/replicas/CMIP5/combined/CMCC/CMCC-CM/piControl/mon/atmos/Amon/r1i1p1/v20170725/pr\r\n",
      "/g/data/al33/replicas/CMIP5/combined/CMCC/CMCC-CMS/piControl/mon/atmos/Amon/r1i1p1/v20120717/pr\r\n",
      "/g/data/al33/replicas/CMIP5/combined/CMCC/CMCC-CMS/piControl/mon/atmos/Amon/r1i1p1/v20170725/pr\r\n",
      "/g/data/al33/replicas/CMIP5/combined/CNRM-CERFACS/CNRM-CM5/piControl/mon/atmos/Amon/r1i1p1/v20110701/pr\r\n",
      "/g/data/al33/replicas/CMIP5/combined/FIO/FIO-ESM/piControl/mon/atmos/Amon/r1i1p1/v20120522/pr\r\n",
      "/g/data/al33/replicas/CMIP5/combined/FIO/fio-esm/piControl/mon/atmos/Amon/r1i1p1/v20120522/pr\r\n",
      "/g/data/al33/replicas/CMIP5/combined/ICHEC/EC-EARTH/piControl/mon/atmos/Amon/r1i1p1/v20120622/pr\r\n",
      "/g/data/al33/replicas/CMIP5/combined/ICHEC/EC-EARTH/piControl/mon/atmos/Amon/r1i1p1/v20131120/pr\r\n",
      "/g/data/al33/replicas/CMIP5/combined/INM/inmcm4/piControl/mon/atmos/Amon/r1i1p1/v20130207/pr\r\n",
      "/g/data/al33/replicas/CMIP5/combined/IPSL/IPSL-CM5A-LR/piControl/mon/atmos/Amon/r1i1p1/v20130506/pr\r\n",
      "/g/data/al33/replicas/CMIP5/combined/IPSL/IPSL-CM5A-MR/piControl/mon/atmos/Amon/r1i1p1/v20111119/pr\r\n",
      "/g/data/al33/replicas/CMIP5/combined/IPSL/IPSL-CM5B-LR/piControl/mon/atmos/Amon/r1i1p1/v20120114/pr\r\n",
      "/g/data/al33/replicas/CMIP5/combined/LASG-CESS/FGOALS-g2/piControl/mon/atmos/Amon/r1i1p1/v1/pr\r\n",
      "/g/data/al33/replicas/CMIP5/combined/LASG-CESS/FGOALS-g2/piControl/mon/atmos/Amon/r1i1p1/v20161204/pr\r\n",
      "/g/data/al33/replicas/CMIP5/combined/LASG-IAP/FGOALS-s2/piControl/mon/atmos/Amon/r1i1p1/v20161204/pr\r\n",
      "/g/data/al33/replicas/CMIP5/combined/LASG-IAP/FGOALS-s2/piControl/mon/atmos/Amon/r1i1p1/v4/pr\r\n",
      "/g/data/al33/replicas/CMIP5/combined/MIROC/MIROC-ESM-CHEM/piControl/mon/atmos/Amon/r1i1p1/v20120710/pr\r\n",
      "/g/data/al33/replicas/CMIP5/combined/MIROC/MIROC-ESM/piControl/mon/atmos/Amon/r1i1p1/v20120710/pr\r\n",
      "/g/data/al33/replicas/CMIP5/combined/MIROC/MIROC4h/piControl/mon/atmos/Amon/r1i1p1/v20120628/pr\r\n",
      "/g/data/al33/replicas/CMIP5/combined/MIROC/MIROC5/piControl/mon/atmos/Amon/r1i1p1/v20161012/pr\r\n",
      "/g/data/al33/replicas/CMIP5/combined/MOHC/HadGEM2-CC/piControl/mon/atmos/Amon/r1i1p1/v20111109/pr\r\n",
      "/g/data/al33/replicas/CMIP5/combined/MOHC/HadGEM2-ES/piControl/mon/atmos/Amon/r1i1p1/v20110524/pr\r\n",
      "/g/data/al33/replicas/CMIP5/combined/MPI-M/MPI-ESM-LR/piControl/mon/atmos/Amon/r1i1p1/v20120602/pr\r\n",
      "/g/data/al33/replicas/CMIP5/combined/MPI-M/MPI-ESM-MR/piControl/mon/atmos/Amon/r1i1p1/v20120602/pr\r\n",
      "/g/data/al33/replicas/CMIP5/combined/MPI-M/MPI-ESM-P/piControl/mon/atmos/Amon/r1i1p1/v20120602/pr\r\n",
      "/g/data/al33/replicas/CMIP5/combined/MRI/MRI-CGCM3/piControl/mon/atmos/Amon/r1i1p1/v20120701/pr\r\n",
      "/g/data/al33/replicas/CMIP5/combined/NASA-GISS/GISS-E2-H-CC/piControl/mon/atmos/Amon/r1i1p1/v20160511/pr\r\n",
      "/g/data/al33/replicas/CMIP5/combined/NASA-GISS/GISS-E2-H/piControl/mon/atmos/Amon/r1i1p1/v20160511/pr\r\n",
      "/g/data/al33/replicas/CMIP5/combined/NASA-GISS/GISS-E2-R-CC/piControl/mon/atmos/Amon/r1i1p1/v20160802/pr\r\n",
      "/g/data/al33/replicas/CMIP5/combined/NASA-GISS/GISS-E2-R/piControl/mon/atmos/Amon/r1i1p1/v20161004/pr\r\n",
      "/g/data/al33/replicas/CMIP5/combined/NCAR/CCSM4/piControl/mon/atmos/Amon/r1i1p1/v20130325/pr\r\n",
      "/g/data/al33/replicas/CMIP5/combined/NCAR/CCSM4/piControl/mon/atmos/Amon/r1i1p1/v20130510/pr\r\n",
      "/g/data/al33/replicas/CMIP5/combined/NCAR/CCSM4/piControl/mon/atmos/Amon/r1i1p1/v20160829/pr\r\n",
      "/g/data/al33/replicas/CMIP5/combined/NCC/NorESM1-M/piControl/mon/atmos/Amon/r1i1p1/v20110901/pr\r\n",
      "/g/data/al33/replicas/CMIP5/combined/NCC/NorESM1-M/piControl/mon/atmos/Amon/r1i1p1/v20120412/pr\r\n",
      "/g/data/al33/replicas/CMIP5/combined/NCC/NorESM1-M/piControl/mon/atmos/Amon/r1i1p1/v20200617/pr\r\n",
      "/g/data/al33/replicas/CMIP5/combined/NCC/NorESM1-ME/piControl/mon/atmos/Amon/r1i1p1/v20120225/pr\r\n",
      "/g/data/al33/replicas/CMIP5/combined/NCC/NorESM1-ME/piControl/mon/atmos/Amon/r1i1p1/v20130926/pr\r\n",
      "/g/data/al33/replicas/CMIP5/combined/NCC/NorESM1-ME/piControl/mon/atmos/Amon/r1i1p1/v20200617/pr\r\n",
      "/g/data/al33/replicas/CMIP5/combined/NIMR-KMA/HadGEM2-AO/piControl/mon/atmos/Amon/r1i1p1/v20130815/pr\r\n",
      "/g/data/al33/replicas/CMIP5/combined/NOAA-GFDL/GFDL-CM3/piControl/mon/atmos/Amon/r1i1p1/v20120227/pr\r\n",
      "/g/data/al33/replicas/CMIP5/combined/NOAA-GFDL/GFDL-ESM2G/piControl/mon/atmos/Amon/r1i1p1/v20120830/pr\r\n",
      "/g/data/al33/replicas/CMIP5/combined/NOAA-GFDL/GFDL-ESM2M/piControl/mon/atmos/Amon/r1i1p1/v20130214/pr\r\n",
      "/g/data/al33/replicas/CMIP5/combined/NSF-DOE-NCAR/CESM1-BGC/piControl/mon/atmos/Amon/r1i1p1/v20130216/pr\r\n",
      "/g/data/al33/replicas/CMIP5/combined/NSF-DOE-NCAR/CESM1-CAM5/piControl/mon/atmos/Amon/r1i1p1/v20130313/pr\r\n",
      "/g/data/al33/replicas/CMIP5/combined/NSF-DOE-NCAR/CESM1-FASTCHEM/piControl/mon/atmos/Amon/r1i1p1/v20121029/pr\r\n",
      "/g/data/al33/replicas/CMIP5/combined/NSF-DOE-NCAR/CESM1-WACCM/piControl/mon/atmos/Amon/r1i1p1/v20130325/pr\r\n",
      "/g/data/rr3/publications/CMIP5/output1/CSIRO-BOM/ACCESS1-0/piControl/mon/atmos/Amon/r1i1p1/latest/pr\r\n",
      "/g/data/rr3/publications/CMIP5/output1/CSIRO-BOM/ACCESS1-3/piControl/mon/atmos/Amon/r1i1p1/latest/pr\r\n",
      "/g/data/rr3/publications/CMIP5/output1/CSIRO-QCCCE/CSIRO-Mk3-6-0/piControl/mon/atmos/Amon/r1i1p1/files/pr_20110518\r\n",
      "/g/data/rr3/publications/PMIP3/output/UNSW/CSIRO-Mk3L-1-2/piControl/mon/atmos/Amon/r1i1p1/files/pr_20170728\r\n",
      "/g/data/rr3/publications/PMIP3/output/UNSW/CSIRO-Mk3L-1-2/piControl/mon/atmos/Amon/r1i1p1/v20170728/pr\r\n",
      "/g/data/al33/replicas/CMIP5/combined/BCC/bcc-csm1-1-m/piControl/mon/atmos/Amon/r1i1p1/v20120705/tas\r\n",
      "/g/data/al33/replicas/CMIP5/combined/BCC/bcc-csm1-1/piControl/mon/atmos/Amon/r1i1p1/v1/tas\r\n",
      "/g/data/al33/replicas/CMIP5/combined/BNU/BNU-ESM/piControl/mon/atmos/Amon/r1i1p1/v20120626/tas\r\n",
      "/g/data/al33/replicas/CMIP5/combined/CCCma/CanESM2/piControl/mon/atmos/Amon/r1i1p1/v20120412/tas\r\n",
      "/g/data/al33/replicas/CMIP5/combined/CCCma/CanESM2/piControl/mon/atmos/Amon/r1i1p1/v20120623/tas\r\n",
      "/g/data/al33/replicas/CMIP5/combined/CMCC/CMCC-CESM/piControl/mon/atmos/Amon/r1i1p1/v20121023/tas\r\n",
      "/g/data/al33/replicas/CMIP5/combined/CMCC/CMCC-CESM/piControl/mon/atmos/Amon/r1i1p1/v20170725/tas\r\n",
      "/g/data/al33/replicas/CMIP5/combined/CMCC/CMCC-CM/piControl/mon/atmos/Amon/r1i1p1/v20121008/tas\r\n",
      "/g/data/al33/replicas/CMIP5/combined/CMCC/CMCC-CM/piControl/mon/atmos/Amon/r1i1p1/v20170725/tas\r\n",
      "/g/data/al33/replicas/CMIP5/combined/CMCC/CMCC-CMS/piControl/mon/atmos/Amon/r1i1p1/v20120717/tas\r\n",
      "/g/data/al33/replicas/CMIP5/combined/CMCC/CMCC-CMS/piControl/mon/atmos/Amon/r1i1p1/v20170725/tas\r\n",
      "/g/data/al33/replicas/CMIP5/combined/CNRM-CERFACS/CNRM-CM5-2/piControl/mon/atmos/Amon/r1i1p1/v20130402/tas\r\n",
      "/g/data/al33/replicas/CMIP5/combined/CNRM-CERFACS/CNRM-CM5/piControl/mon/atmos/Amon/r1i1p1/v20110701/tas\r\n",
      "/g/data/al33/replicas/CMIP5/combined/FIO/FIO-ESM/piControl/mon/atmos/Amon/r1i1p1/v20120522/tas\r\n",
      "/g/data/al33/replicas/CMIP5/combined/FIO/fio-esm/piControl/mon/atmos/Amon/r1i1p1/v20120522/tas\r\n",
      "/g/data/al33/replicas/CMIP5/combined/ICHEC/EC-EARTH/piControl/mon/atmos/Amon/r1i1p1/v20120622/tas\r\n",
      "/g/data/al33/replicas/CMIP5/combined/ICHEC/EC-EARTH/piControl/mon/atmos/Amon/r1i1p1/v20131120/tas\r\n",
      "/g/data/al33/replicas/CMIP5/combined/INM/inmcm4/piControl/mon/atmos/Amon/r1i1p1/v20130207/tas\r\n",
      "/g/data/al33/replicas/CMIP5/combined/IPSL/IPSL-CM5A-LR/piControl/mon/atmos/Amon/r1i1p1/v20130506/tas\r\n",
      "/g/data/al33/replicas/CMIP5/combined/IPSL/IPSL-CM5A-MR/piControl/mon/atmos/Amon/r1i1p1/v20111119/tas\r\n",
      "/g/data/al33/replicas/CMIP5/combined/IPSL/IPSL-CM5B-LR/piControl/mon/atmos/Amon/r1i1p1/v20120114/tas\r\n",
      "/g/data/al33/replicas/CMIP5/combined/LASG-CESS/FGOALS-g2/piControl/mon/atmos/Amon/r1i1p1/v1/tas\r\n",
      "/g/data/al33/replicas/CMIP5/combined/LASG-CESS/FGOALS-g2/piControl/mon/atmos/Amon/r1i1p1/v20161204/tas\r\n",
      "/g/data/al33/replicas/CMIP5/combined/LASG-IAP/FGOALS-s2/piControl/mon/atmos/Amon/r1i1p1/v20161204/tas\r\n",
      "/g/data/al33/replicas/CMIP5/combined/LASG-IAP/FGOALS-s2/piControl/mon/atmos/Amon/r1i1p1/v4/tas\r\n",
      "/g/data/al33/replicas/CMIP5/combined/MIROC/MIROC-ESM-CHEM/piControl/mon/atmos/Amon/r1i1p1/v20120710/tas\r\n",
      "/g/data/al33/replicas/CMIP5/combined/MIROC/MIROC-ESM/piControl/mon/atmos/Amon/r1i1p1/v20120710/tas\r\n",
      "/g/data/al33/replicas/CMIP5/combined/MIROC/MIROC4h/piControl/mon/atmos/Amon/r1i1p1/v20120628/tas\r\n",
      "/g/data/al33/replicas/CMIP5/combined/MIROC/MIROC5/piControl/mon/atmos/Amon/r1i1p1/v20161012/tas\r\n",
      "/g/data/al33/replicas/CMIP5/combined/MOHC/HadGEM2-CC/piControl/mon/atmos/Amon/r1i1p1/v20111109/tas\r\n",
      "/g/data/al33/replicas/CMIP5/combined/MOHC/HadGEM2-ES/piControl/mon/atmos/Amon/r1i1p1/v20110524/tas\r\n",
      "/g/data/al33/replicas/CMIP5/combined/MPI-M/MPI-ESM-LR/piControl/mon/atmos/Amon/r1i1p1/v20120602/tas\r\n",
      "/g/data/al33/replicas/CMIP5/combined/MPI-M/MPI-ESM-MR/piControl/mon/atmos/Amon/r1i1p1/v20120602/tas\r\n",
      "/g/data/al33/replicas/CMIP5/combined/MPI-M/MPI-ESM-P/piControl/mon/atmos/Amon/r1i1p1/v20120602/tas\r\n",
      "/g/data/al33/replicas/CMIP5/combined/MRI/MRI-CGCM3/piControl/mon/atmos/Amon/r1i1p1/v20120701/tas\r\n",
      "/g/data/al33/replicas/CMIP5/combined/NASA-GISS/GISS-E2-H-CC/piControl/mon/atmos/Amon/r1i1p1/v20160511/tas\r\n",
      "/g/data/al33/replicas/CMIP5/combined/NASA-GISS/GISS-E2-H/piControl/mon/atmos/Amon/r1i1p1/v20160511/tas\r\n",
      "/g/data/al33/replicas/CMIP5/combined/NASA-GISS/GISS-E2-R-CC/piControl/mon/atmos/Amon/r1i1p1/v20160802/tas\r\n",
      "/g/data/al33/replicas/CMIP5/combined/NASA-GISS/GISS-E2-R/piControl/mon/atmos/Amon/r1i1p1/v20161004/tas\r\n",
      "/g/data/al33/replicas/CMIP5/combined/NCAR/CCSM4/piControl/mon/atmos/Amon/r1i1p1/v20130325/tas\r\n",
      "/g/data/al33/replicas/CMIP5/combined/NCAR/CCSM4/piControl/mon/atmos/Amon/r1i1p1/v20130510/tas\r\n",
      "/g/data/al33/replicas/CMIP5/combined/NCAR/CCSM4/piControl/mon/atmos/Amon/r1i1p1/v20160829/tas\r\n",
      "/g/data/al33/replicas/CMIP5/combined/NCC/NorESM1-M/piControl/mon/atmos/Amon/r1i1p1/v20110901/tas\r\n",
      "/g/data/al33/replicas/CMIP5/combined/NCC/NorESM1-M/piControl/mon/atmos/Amon/r1i1p1/v20120412/tas\r\n",
      "/g/data/al33/replicas/CMIP5/combined/NCC/NorESM1-M/piControl/mon/atmos/Amon/r1i1p1/v20200617/tas\r\n",
      "/g/data/al33/replicas/CMIP5/combined/NCC/NorESM1-ME/piControl/mon/atmos/Amon/r1i1p1/v20120225/tas\r\n",
      "/g/data/al33/replicas/CMIP5/combined/NCC/NorESM1-ME/piControl/mon/atmos/Amon/r1i1p1/v20130926/tas\r\n",
      "/g/data/al33/replicas/CMIP5/combined/NCC/NorESM1-ME/piControl/mon/atmos/Amon/r1i1p1/v20200617/tas\r\n",
      "/g/data/al33/replicas/CMIP5/combined/NIMR-KMA/HadGEM2-AO/piControl/mon/atmos/Amon/r1i1p1/v20130815/tas\r\n",
      "/g/data/al33/replicas/CMIP5/combined/NOAA-GFDL/GFDL-CM3/piControl/mon/atmos/Amon/r1i1p1/v20120227/tas\r\n",
      "/g/data/al33/replicas/CMIP5/combined/NOAA-GFDL/GFDL-ESM2G/piControl/mon/atmos/Amon/r1i1p1/v20120830/tas\r\n",
      "/g/data/al33/replicas/CMIP5/combined/NOAA-GFDL/GFDL-ESM2M/piControl/mon/atmos/Amon/r1i1p1/v20130214/tas\r\n",
      "/g/data/al33/replicas/CMIP5/combined/NSF-DOE-NCAR/CESM1-BGC/piControl/mon/atmos/Amon/r1i1p1/v20130216/tas\r\n",
      "/g/data/al33/replicas/CMIP5/combined/NSF-DOE-NCAR/CESM1-CAM5/piControl/mon/atmos/Amon/r1i1p1/v20130313/tas\r\n",
      "/g/data/al33/replicas/CMIP5/combined/NSF-DOE-NCAR/CESM1-FASTCHEM/piControl/mon/atmos/Amon/r1i1p1/v20121029/tas\r\n",
      "/g/data/al33/replicas/CMIP5/combined/NSF-DOE-NCAR/CESM1-WACCM/piControl/mon/atmos/Amon/r1i1p1/v20130325/tas\r\n",
      "/g/data/rr3/publications/CMIP5/output1/CSIRO-BOM/ACCESS1-0/piControl/mon/atmos/Amon/r1i1p1/latest/tas\r\n",
      "/g/data/rr3/publications/CMIP5/output1/CSIRO-BOM/ACCESS1-3/piControl/mon/atmos/Amon/r1i1p1/latest/tas\r\n",
      "/g/data/rr3/publications/CMIP5/output1/CSIRO-QCCCE/CSIRO-Mk3-6-0/piControl/mon/atmos/Amon/r1i1p1/files/tas_20110518\r\n",
      "/g/data/rr3/publications/PMIP3/output/UNSW/CSIRO-Mk3L-1-2/piControl/mon/atmos/Amon/r1i1p1/files/tas_20170728\r\n",
      "/g/data/rr3/publications/PMIP3/output/UNSW/CSIRO-Mk3L-1-2/piControl/mon/atmos/Amon/r1i1p1/v20170728/tas\r\n"
     ]
    }
   ],
   "source": [
    "!clef --local cmip5 -v pr -v tas -e piControl  -en r1i1p1 -t Amon --csv"
   ]
  },
  {
   "cell_type": "code",
   "execution_count": 2,
   "metadata": {},
   "outputs": [
    {
     "name": "stdout",
     "output_type": "stream",
     "text": [
      ",model,experiment,frequency,ensemble,cmor_table,version,variable,path,fdate,tdate,time_complete\r\n",
      "0,BCC-CSM1.1(m),piControl,mon,r1i1p1,Amon,20120705,pr,/g/data/al33/replicas/CMIP5/combined/BCC/bcc-csm1-1-m/piControl/mon/atmos/Amon/r1i1p1/v20120705/pr,101,40012,\r\n",
      "1,BCC-CSM1.1,piControl,mon,r1i1p1,Amon,1,pr,/g/data/al33/replicas/CMIP5/combined/BCC/bcc-csm1-1/piControl/mon/atmos/Amon/r1i1p1/v1/pr,101,50012,\r\n",
      "2,BNU-ESM,piControl,mon,r1i1p1,Amon,20120626,pr,/g/data/al33/replicas/CMIP5/combined/BNU/BNU-ESM/piControl/mon/atmos/Amon/r1i1p1/v20120626/pr,14500101,20081231,True\r\n"
     ]
    }
   ],
   "source": [
    "!head -n 4 CMIP5_query.csv"
   ]
  },
  {
   "cell_type": "markdown",
   "metadata": {},
   "source": [
    "In the first example I am passing *--csv* to a CMIP5 query with the *--local* option set.<br> \n",
    "The tool still prints the results on the display as well as creating the csv file.<br>\n",
    "The following example demonstrate how *--csv* works also for remote CMIP6 queries."
   ]
  },
  {
   "cell_type": "code",
   "execution_count": 3,
   "metadata": {},
   "outputs": [
    {
     "name": "stdout",
     "output_type": "stream",
     "text": [
      "ACCESS-CM2 / r1i1p1f1 versions: v20191112\r\n",
      "ACCESS-ESM1-5 / r1i1p1f1 versions: v20191214\r\n",
      "AWI-ESM-1-1-LR / r1i1p1f1 versions: v20200212\r\n",
      "BCC-CSM2-MR / r1i1p1f1 versions: v20181012, v20181016\r\n",
      "BCC-ESM1 / r1i1p1f1 versions: v20181211, v20181214\r\n",
      "CAMS-CSM1-0 / r1i1p1f1 versions: v20190729, v20191212\r\n",
      "CESM2 / r1i1p1f1 versions: v20190320\r\n",
      "CESM2-FV2 / r1i1p1f1 versions: v20191120\r\n",
      "CESM2-WACCM / r1i1p1f1 versions: v20190320\r\n",
      "CESM2-WACCM-FV2 / r1i1p1f1 versions: v20191120\r\n",
      "CIESM / r1i1p1f1 versions: v20200417\r\n",
      "CMCC-CM2-SR5 / r1i1p1f1 versions: v20200616\r\n",
      "CanESM5 / r1i1p1f1 versions: v20190429\r\n",
      "E3SM-1-0 / r1i1p1f1 versions: v20190807, v20190719\r\n",
      "E3SM-1-1 / r1i1p1f1 versions: v20191203, v20191029, v20200324\r\n",
      "E3SM-1-1-ECA / r1i1p1f1 versions: v20191218, v20191216\r\n",
      "EC-Earth3 / r1i1p1f1 versions: v20200312\r\n",
      "EC-Earth3-Veg / r1i1p1f1 versions: v20200226\r\n",
      "GISS-E2-1-G / r1i1p1f1 versions: v20180824\r\n",
      "GISS-E2-1-H / r1i1p1f1 versions: v20190410\r\n",
      "GISS-E2-2-G / r1i1p1f1 versions: v20191120\r\n",
      "HadGEM3-GC31-LL / r1i1p1f1 versions: v20190628\r\n",
      "HadGEM3-GC31-MM / r1i1p1f1 versions: v20190920\r\n",
      "INM-CM4-8 / r1i1p1f1 versions: v20190605\r\n",
      "INM-CM5-0 / r1i1p1f1 versions: v20190619\r\n",
      "IPSL-CM6A-LR / r1i1p1f1 versions: v20200326\r\n",
      "MCM-UA-1-0 / r1i1p1f1 versions: v20190731, v20191017\r\n",
      "MIROC6 / r1i1p1f1 versions: v20190311, v20181212\r\n",
      "MPI-ESM-1-2-HAM / r1i1p1f1 versions: v20190627\r\n",
      "MPI-ESM1-2-HR / r1i1p1f1 versions: v20190710\r\n",
      "MPI-ESM1-2-LR / r1i1p1f1 versions: v20190710\r\n",
      "MRI-ESM2-0 / r1i1p1f1 versions: v20190222, v20190603\r\n",
      "NorCPM1 / r1i1p1f1 versions: v20190914\r\n",
      "NorESM2-LM / r1i1p1f1 versions: v20200217, v20190920\r\n",
      "NorESM2-MM / r1i1p1f1 versions: v20191108\r\n",
      "SAM0-UNICON / r1i1p1f1 versions: v20190910\r\n",
      "TaiESM1 / r1i1p1f1 versions: v20200211, v20200302\r\n"
     ]
    }
   ],
   "source": [
    "!clef --remote cmip6 -v pr -v mrso -e piControl  -mi r1i1p1f1 --frequency mon --and variable_id --csv"
   ]
  },
  {
   "cell_type": "code",
   "execution_count": 4,
   "metadata": {},
   "outputs": [
    {
     "name": "stdout",
     "output_type": "stream",
     "text": [
      ",index,version,activity_id,dataset_id,experiment_id,frequency,grid,grid_label,member_id,nominal_resolution,source_id,source_type,sub_experiment_id,table_id,variable_id,score,comb\r\n",
      "0,0,\"('v20200211',)\",CMIP,CMIP6.CMIP.AS-RCEC.TaiESM1.piControl.r1i1p1f1.Amon.pr.gn.v20200211|esgf.rcec.sinica.edu.tw,piControl,mon,finite-volume grid with 0.9x1.25 degree lat/lon resolution,gn,r1i1p1f1,100 km,TaiESM1,AOGCM,none,Amon,pr,1.0,\"('pr',)\"\r\n",
      "1,1,\"('v20200211',)\",CMIP,CMIP6.CMIP.AS-RCEC.TaiESM1.piControl.r1i1p1f1.Amon.pr.gn.v20200211|esgf.rcec.sinica.edu.tw,piControl,mon,finite-volume grid with 0.9x1.25 degree lat/lon resolution,gn,r1i1p1f1,100 km,TaiESM1,AOGCM,none,Amon,pr,1.0,\"('pr',)\"\r\n",
      "2,2,\"('v20200211',)\",CMIP,CMIP6.CMIP.AS-RCEC.TaiESM1.piControl.r1i1p1f1.Amon.pr.gn.v20200211|esgf.rcec.sinica.edu.tw,piControl,mon,finite-volume grid with 0.9x1.25 degree lat/lon resolution,gn,r1i1p1f1,100 km,TaiESM1,AOGCM,none,Amon,pr,1.0,\"('pr',)\"\r\n"
     ]
    }
   ],
   "source": [
    "!head -n 4 CMIP6_query.csv"
   ]
  },
  {
   "cell_type": "markdown",
   "metadata": {},
   "source": [
    "### Query summary option"
   ]
  },
  {
   "cell_type": "markdown",
   "metadata": {},
   "source": [
    "The *--stats* option added to the command line will print a summary of the query results<br>\n",
    "It works for both *--local* and *--remote* options, but not with the default query.<br>\n",
    "Currently it prints the following:\n",
    "* total number of models, followed by their names\n",
    "* total number of unique model-ensembles/members combinations\n",
    "* number of models that have N ensembles/members, followed by their names"
   ]
  },
  {
   "cell_type": "code",
   "execution_count": 5,
   "metadata": {},
   "outputs": [
    {
     "name": "stdout",
     "output_type": "stream",
     "text": [
      "\r\n",
      "Query summary\r\n",
      "\r\n",
      "42 model/s are available:\r\n",
      "ACCESS1.0 ACCESS1.3 BCC-CSM1.1 BCC-CSM1.1(m) BNU-ESM CCSM4 CESM1(BGC) CESM1(CAM5) CESM1(WACCM) CMCC-CESM CMCC-CM CMCC-CMS CNRM-CM5 CSIRO-Mk3.6.0 CanESM2 EC-EARTH FGOALS-s2 FGOALS_g2 FIO-ESM GFDL-CM3 GFDL-ESM2G GFDL-ESM2M GISS-E2-H GISS-E2-H-CC GISS-E2-R GISS-E2-R-CC HadGEM2-AO HadGEM2-CC HadGEM2-ES IPSL-CM5A-LR IPSL-CM5A-MR IPSL-CM5B-LR MIROC-ESM MIROC-ESM-CHEM MIROC5 MPI-ESM-LR MPI-ESM-MR MRI-CGCM3 MRI-ESM1 NorESM1-M NorESM1-ME inmcm4 \r\n",
      "\r\n",
      "A total of 100 unique model-member combinations are available.\r\n",
      "\r\n",
      "  26 model/s have 1 member/s:\r\n",
      "\r\n",
      "     ACCESS1.0: r1i1p1\r\n",
      "     ACCESS1.3: r1i1p1\r\n",
      "     BCC-CSM1.1: r1i1p1\r\n",
      "     BCC-CSM1.1(m): r1i1p1\r\n",
      "     BNU-ESM: r1i1p1\r\n",
      "     CESM1(BGC): r1i1p1\r\n",
      "     CMCC-CESM: r1i1p1\r\n",
      "     CMCC-CM: r1i1p1\r\n",
      "     CMCC-CMS: r1i1p1\r\n",
      "     FGOALS_g2: r1i1p1\r\n",
      "     GFDL-CM3: r1i1p1\r\n",
      "     GFDL-ESM2G: r1i1p1\r\n",
      "     GFDL-ESM2M: r1i1p1\r\n",
      "     GISS-E2-H-CC: r1i1p1\r\n",
      "     GISS-E2-R-CC: r1i1p1\r\n",
      "     HadGEM2-AO: r1i1p1\r\n",
      "     IPSL-CM5A-MR: r1i1p1\r\n",
      "     IPSL-CM5B-LR: r1i1p1\r\n",
      "     MIROC-ESM: r1i1p1\r\n",
      "     MIROC-ESM-CHEM: r1i1p1\r\n",
      "     MPI-ESM-MR: r1i1p1\r\n",
      "     MRI-CGCM3: r1i1p1\r\n",
      "     MRI-ESM1: r1i1p1\r\n",
      "     NorESM1-M: r1i1p1\r\n",
      "     NorESM1-ME: r1i1p1\r\n",
      "     inmcm4: r1i1p1\r\n",
      "\r\n",
      "  7 model/s have 3 member/s:\r\n",
      "\r\n",
      "     CESM1(CAM5): r1i1p1, r2i1p1, r3i1p1\r\n",
      "     CESM1(WACCM): r2i1p1, r3i1p1, r4i1p1\r\n",
      "     FGOALS-s2: r1i1p1, r2i1p1, r3i1p1\r\n",
      "     FIO-ESM: r1i1p1, r2i1p1, r3i1p1\r\n",
      "     HadGEM2-CC: r1i1p1, r2i1p1, r3i1p1\r\n",
      "     MIROC5: r1i1p1, r2i1p1, r3i1p1\r\n",
      "     MPI-ESM-LR: r1i1p1, r2i1p1, r3i1p1\r\n",
      "\r\n",
      "  2 model/s have 4 member/s:\r\n",
      "\r\n",
      "     HadGEM2-ES: r1i1p1, r2i1p1, r3i1p1, r4i1p1\r\n",
      "     IPSL-CM5A-LR: r1i1p1, r2i1p1, r3i1p1, r4i1p1\r\n",
      "\r\n",
      "  4 model/s have 5 member/s:\r\n",
      "\r\n",
      "     CNRM-CM5: r10i1p1, r1i1p1, r2i1p1, r4i1p1, r6i1p1\r\n",
      "     CanESM2: r1i1p1, r2i1p1, r3i1p1, r4i1p1, r5i1p1\r\n",
      "     GISS-E2-H: r1i1p1, r1i1p2, r1i1p3, r2i1p1, r2i1p3\r\n",
      "     GISS-E2-R: r1i1p1, r1i1p2, r1i1p3, r2i1p1, r2i1p3\r\n",
      "\r\n",
      "  1 model/s have 6 member/s:\r\n",
      "\r\n",
      "     CCSM4: r1i1p1, r2i1p1, r3i1p1, r4i1p1, r5i1p1, r6i1p1\r\n",
      "\r\n",
      "  1 model/s have 9 member/s:\r\n",
      "\r\n",
      "     EC-EARTH: r11i1p1, r12i1p1, r13i1p1, r1i1p1, r2i1p1, r6i1p1, r7i1p1, r8i1p1, r9i1p1\r\n",
      "\r\n",
      "  1 model/s have 10 member/s:\r\n",
      "\r\n",
      "     CSIRO-Mk3.6.0: r10i1p1, r1i1p1, r2i1p1, r3i1p1, r4i1p1, r5i1p1, r6i1p1, r7i1p1, r8i1p1, r9i1p1\r\n",
      "\r\n",
      "\r\n"
     ]
    }
   ],
   "source": [
    "!clef --local cmip5 -v pr -e rcp85 -t Amon --stats"
   ]
  },
  {
   "cell_type": "markdown",
   "metadata": {},
   "source": [
    "### AND Filter"
   ]
  },
  {
   "cell_type": "markdown",
   "metadata": {},
   "source": [
    "We added the *--and* filter flag to perform more complex queries. As the name implies this option applies the AND operator to the query results.<br>\n",
    "The *--and* filter works only for the *--local* and *--remote* queries at the present but not for the standard query. The filter is available for both *cmip5* and *cmip6* datasets.<br>NB the attributes' names are different for CMIP5 and CMIP6 and need to be specified accordingly to the *--and* filter. See examples below<br><br>\n",
    "It is easier to explain by looking at an example.<br>\n",
    "Let's say that you want to find all the CMIP6 models that have both daily precipitation (pr) and soil moisture (mrso) for a particular experiment (piControl). A way of doing it would be to select separately both variables and then work out which models had both.<br>\n",
    "With the *--and* option you can query for both variables at the same time and specify you want only the models, ensemble pairs that have both of them."
   ]
  },
  {
   "cell_type": "code",
   "execution_count": 7,
   "metadata": {},
   "outputs": [
    {
     "name": "stdout",
     "output_type": "stream",
     "text": [
      "ACCESS-CM2 / r1i1p1f1 versions: v20191112\r\n",
      "ACCESS-ESM1-5 / r1i1p1f1 versions: v20191214\r\n",
      "AWI-ESM-1-1-LR / r1i1p1f1 versions: v20200212\r\n",
      "BCC-CSM2-MR / r1i1p1f1 versions: v20181016, v20181012\r\n",
      "BCC-ESM1 / r1i1p1f1 versions: v20181214, v20181211\r\n",
      "CAMS-CSM1-0 / r1i1p1f1 versions: v20191212, v20190729\r\n",
      "CESM2 / r1i1p1f1 versions: v20190320\r\n",
      "CESM2-FV2 / r1i1p1f1 versions: v20191120\r\n",
      "CESM2-WACCM / r1i1p1f1 versions: v20190320\r\n",
      "CESM2-WACCM-FV2 / r1i1p1f1 versions: v20191120\r\n",
      "CIESM / r1i1p1f1 versions: v20200417\r\n",
      "CMCC-CM2-SR5 / r1i1p1f1 versions: v20200616\r\n",
      "CanESM5 / r1i1p1f1 versions: v20190429\r\n",
      "E3SM-1-0 / r1i1p1f1 versions: v20190807, v20190719\r\n",
      "E3SM-1-1 / r1i1p1f1 versions: v20200324, v20191029\r\n",
      "E3SM-1-1-ECA / r1i1p1f1 versions: v20191216, v20191218\r\n",
      "EC-Earth3 / r1i1p1f1 versions: v20200312\r\n",
      "EC-Earth3-LR / r1i1p1f1 versions: v20200409\r\n",
      "EC-Earth3-Veg / r1i1p1f1 versions: v20200226\r\n",
      "EC-Earth3-Veg-LR / r1i1p1f1 versions: v20200213\r\n",
      "GISS-E2-1-G / r1i1p1f1 versions: v20180824\r\n",
      "GISS-E2-1-G-CC / r1i1p1f1 versions: v20190815\r\n",
      "GISS-E2-1-H / r1i1p1f1 versions: v20190410\r\n",
      "GISS-E2-2-G / r1i1p1f1 versions: v20191120\r\n",
      "HadGEM3-GC31-LL / r1i1p1f1 versions: v20190628\r\n",
      "HadGEM3-GC31-MM / r1i1p1f1 versions: v20190920\r\n",
      "INM-CM4-8 / r1i1p1f1 versions: v20190605\r\n",
      "INM-CM5-0 / r1i1p1f1 versions: v20190619\r\n",
      "IPSL-CM6A-LR / r1i1p1f1 versions: v20200326\r\n",
      "MCM-UA-1-0 / r1i1p1f1 versions: v20190731, v20191017\r\n",
      "MIROC6 / r1i1p1f1 versions: v20181212, v20190311\r\n",
      "MPI-ESM-1-2-HAM / r1i1p1f1 versions: v20190627\r\n",
      "MPI-ESM1-2-HR / r1i1p1f1 versions: v20190710\r\n",
      "MPI-ESM1-2-LR / r1i1p1f1 versions: v20190710\r\n",
      "MRI-ESM2-0 / r1i1p1f1 versions: v20190603, v20190222\r\n",
      "NorCPM1 / r1i1p1f1 versions: v20190914\r\n",
      "NorESM2-LM / r1i1p1f1 versions: v20200217, v20190920\r\n",
      "NorESM2-MM / r1i1p1f1 versions: v20191108\r\n",
      "SAM0-UNICON / r1i1p1f1 versions: v20190910\r\n",
      "TaiESM1 / r1i1p1f1 versions: v20200302, v20200211\r\n"
     ]
    }
   ],
   "source": [
    "!clef --local cmip6 -v pr -v mrso -e piControl  -mi r1i1p1f1 --frequency mon --and variable_id"
   ]
  },
  {
   "cell_type": "markdown",
   "metadata": {},
   "source": [
    "The results are displayed as a list of the model-members pairs followed by all the available versions.<br>\n",
    "*--and* can be used in conjunction with *--csv* to produce a csv file where the paths and other attributes values will be listed.<br>\n",
    "Similarly the *--stats* option can be used with *--and* to summarise the results.\n",
    "<br>\n",
    "Here is an example with CMIP5. Note the different attribute name for the *--and* filter"
   ]
  },
  {
   "cell_type": "code",
   "execution_count": 8,
   "metadata": {
    "scrolled": true
   },
   "outputs": [
    {
     "name": "stdout",
     "output_type": "stream",
     "text": [
      "CNRM-CM5 / r1i1p1 versions: v20121001\r\n",
      "CSIRO-Mk3.6.0 / r10i1p1 versions: v20110518\r\n",
      "CSIRO-Mk3.6.0 / r1i1p1 versions: v20120323\r\n",
      "CSIRO-Mk3.6.0 / r2i1p1 versions: v20110518\r\n",
      "CSIRO-Mk3.6.0 / r3i1p1 versions: v20110518\r\n",
      "CSIRO-Mk3.6.0 / r4i1p1 versions: v20110518\r\n",
      "CSIRO-Mk3.6.0 / r5i1p1 versions: v20110518\r\n",
      "CSIRO-Mk3.6.0 / r6i1p1 versions: v20110518\r\n",
      "CSIRO-Mk3.6.0 / r7i1p1 versions: v20110518\r\n",
      "CSIRO-Mk3.6.0 / r8i1p1 versions: v20110518\r\n",
      "CSIRO-Mk3.6.0 / r9i1p1 versions: v20110518\r\n",
      "CanESM2 / r1i1p1 versions: v20130331\r\n",
      "CanESM2 / r2i1p1 versions: v20130331\r\n",
      "CanESM2 / r3i1p1 versions: v20130331\r\n",
      "CanESM2 / r4i1p1 versions: v20130331, v20120410\r\n",
      "CanESM2 / r5i1p1 versions: v20130331, v20120410\r\n",
      "FGOALS-g2 / r1i1p1 versions: v20161204\r\n",
      "GFDL-CM3 / r1i1p1 versions: v20110601\r\n",
      "GFDL-ESM2G / r1i1p1 versions: v20130130\r\n",
      "GFDL-ESM2M / r1i1p1 versions: v20110601\r\n",
      "HadGEM2-AO / r1i1p1 versions: v20130815\r\n",
      "HadGEM2-ES / r1i1p1 versions: v20120405, v20111206\r\n",
      "HadGEM2-ES / r2i1p1 versions: v20111205\r\n",
      "HadGEM2-ES / r3i1p1 versions: v20111208\r\n",
      "HadGEM2-ES / r4i1p1 versions: v20111208\r\n",
      "IPSL-CM5A-LR / r1i1p1 versions: v20120114\r\n",
      "IPSL-CM5A-LR / r2i1p1 versions: v20130506\r\n",
      "IPSL-CM5A-LR / r3i1p1 versions: v20111119\r\n",
      "IPSL-CM5A-LR / r4i1p1 versions: v20120804\r\n",
      "IPSL-CM5A-MR / r1i1p1 versions: v20111119\r\n",
      "MIROC-ESM / r1i1p1 versions: v20120710\r\n",
      "MIROC-ESM-CHEM / r1i1p1 versions: v20120710\r\n",
      "MIROC5 / r1i1p1 versions: v20161012\r\n",
      "MIROC5 / r2i1p1 versions: v20120710\r\n",
      "MIROC5 / r3i1p1 versions: v20120710\r\n",
      "MIROC5 / r4i1p1 versions: v20131009\r\n",
      "MIROC5 / r5i1p1 versions: v20131009\r\n",
      "MPI-ESM-LR / r1i1p1 versions: v20111014\r\n",
      "MPI-ESM-LR / r2i1p1 versions: v20111014\r\n",
      "MPI-ESM-LR / r3i1p1 versions: v20111014\r\n",
      "MPI-ESM-MR / r1i1p1 versions: v20120503\r\n",
      "MRI-CGCM3 / r1i1p1 versions: v20120701\r\n",
      "NorESM1-M / r1i1p1 versions: v20110901\r\n"
     ]
    }
   ],
   "source": [
    "!clef --remote cmip5 -v tasmin -v tasmax -e rcp26 -t day --and variable"
   ]
  },
  {
   "cell_type": "markdown",
   "metadata": {},
   "source": [
    "#### AND filter on more than one attribute"
   ]
  },
  {
   "cell_type": "markdown",
   "metadata": {},
   "source": [
    "We can pass the *--and* flag more than once if we want to apply the operator to more than one attribute.<br>\n",
    "Let's add another experiment as a constraint to the previous CMIP6 query and see what happens."
   ]
  },
  {
   "cell_type": "code",
   "execution_count": 9,
   "metadata": {},
   "outputs": [
    {
     "name": "stdout",
     "output_type": "stream",
     "text": [
      "ACCESS-CM2 / r1i1p1f1 versions: v20191108, v20191112\r\n",
      "ACCESS-ESM1-5 / r1i1p1f1 versions: v20191214, v20191115\r\n",
      "BCC-CSM2-MR / r1i1p1f1 versions: v20181012, v20181016, v20190308, v20190314\r\n",
      "CESM2-WACCM / r1i1p1f1 versions: v20190320, v20200702\r\n",
      "CIESM / r1i1p1f1 versions: v20200605, v20200417\r\n",
      "CMCC-CM2-SR5 / r1i1p1f1 versions: v20200616, v20200622\r\n",
      "CanESM5 / r1i1p1f1 versions: v20190429\r\n",
      "EC-Earth3 / r1i1p1f1 versions: v20200310, v20200312\r\n",
      "EC-Earth3-Veg / r1i1p1f1 versions: v20200226, v20200225\r\n",
      "INM-CM4-8 / r1i1p1f1 versions: v20190605, v20190603\r\n",
      "INM-CM5-0 / r1i1p1f1 versions: v20190619, v20190724\r\n",
      "IPSL-CM6A-LR / r1i1p1f1 versions: v20190903, v20200326\r\n",
      "MIROC6 / r1i1p1f1 versions: v20190627, v20190311, v20181212\r\n",
      "MPI-ESM1-2-HR / r1i1p1f1 versions: v20190710\r\n",
      "MPI-ESM1-2-LR / r1i1p1f1 versions: v20190710\r\n",
      "MRI-ESM2-0 / r1i1p1f1 versions: v20190603, v20191108, v20190222\r\n",
      "NorESM2-LM / r1i1p1f1 versions: v20190920, v20200217, v20191108\r\n",
      "NorESM2-MM / r1i1p1f1 versions: v20191108\r\n",
      "TaiESM1 / r1i1p1f1 versions: v20200211, v20200901, v20200302\r\n"
     ]
    }
   ],
   "source": [
    "!clef --local cmip6 -v pr -v mrso -e piControl -e ssp585 -mi r1i1p1f1 --frequency mon --and variable_id --and experiment_id"
   ]
  },
  {
   "cell_type": "markdown",
   "metadata": {},
   "source": [
    "The query returned less results because, although we added an experiment, we are requiring that both variables and both experiments are available for a model/member pair to be selected. <br>\n",
    "By default model/member pair (or model/ensemble pairs for CMIP5) are used to identify a simulation. As we will see in the next and last blog when the same function is imported in a python code you can define the simulation using different attributes. "
   ]
  },
  {
   "cell_type": "markdown",
   "metadata": {},
   "source": [
    "### Citation list option"
   ]
  },
  {
   "cell_type": "markdown",
   "metadata": {},
   "source": [
    "CleF has functions that retrieve errata associated to a file and the documents available in the ESDOC system.<br> Most of these functionalities are currently working only when you use clef interactively. However, since version 1.2 we added a flag to retrieve citations also using the command line.<br>\n",
    "The *--cite* option added to the command line will create a file containing the citations of all the datasets returned by the query. It retrieves the citation information from the DKRZ WDCC server (https://cera-www.dkrz.de/WDCC). This provides citation information only for CMIP6, so this flag is only available with the *cmip6* sub-command.<br>\n",
    "As for the other flags illustrated above, this option works when you select either *--local* or *--remote* queries."
   ]
  },
  {
   "cell_type": "code",
   "execution_count": 20,
   "metadata": {
    "scrolled": true
   },
   "outputs": [
    {
     "name": "stdout",
     "output_type": "stream",
     "text": [
      "CMIP6.CMIP.AS-RCEC.TaiESM1.historical.r1i1p1f1.day.clt.gn.v20200626\r\n",
      "CMIP6.CMIP.AWI.AWI-ESM-1-1-LR.historical.r1i1p1f1.day.clt.gn.v20200212\r\n",
      "CMIP6.CMIP.BCC.BCC-CSM2-MR.historical.r1i1p1f1.day.clt.gn.v20181127\r\n",
      "CMIP6.CMIP.BCC.BCC-ESM1.historical.r1i1p1f1.day.clt.gn.v20181220\r\n",
      "CMIP6.CMIP.CAS.FGOALS-f3-L.historical.r1i1p1f1.day.clt.gr.v20200605\r\n",
      "CMIP6.CMIP.CAS.FGOALS-g3.historical.r1i1p1f1.day.clt.gn.v20190826\r\n",
      "CMIP6.CMIP.CCCR-IITM.IITM-ESM.historical.r1i1p1f1.day.clt.gn.v20191226\r\n",
      "CMIP6.CMIP.CCCma.CanESM5.historical.r1i1p1f1.day.clt.gn.v20190429\r\n",
      "CMIP6.CMIP.CMCC.CMCC-CM2-HR4.historical.r1i1p1f1.day.clt.gn.v20200904\r\n",
      "CMIP6.CMIP.CMCC.CMCC-CM2-SR5.historical.r1i1p1f1.day.clt.gn.v20200616\r\n",
      "CMIP6.CMIP.CSIRO-ARCCSS.ACCESS-CM2.historical.r1i1p1f1.day.clt.gn.v20191108\r\n",
      "CMIP6.CMIP.CSIRO.ACCESS-ESM1-5.historical.r1i1p1f1.day.clt.gn.v20191115\r\n",
      "CMIP6.CMIP.EC-Earth-Consortium.EC-Earth3-Veg-LR.historical.r1i1p1f1.day.clt.gr.v20200217\r\n",
      "CMIP6.CMIP.EC-Earth-Consortium.EC-Earth3-Veg.historical.r1i1p1f1.day.clt.gr.v20200225\r\n",
      "CMIP6.CMIP.EC-Earth-Consortium.EC-Earth3.historical.r1i1p1f1.day.clt.gr.v20200310\r\n",
      "CMIP6.CMIP.HAMMOZ-Consortium.MPI-ESM-1-2-HAM.historical.r1i1p1f1.day.clt.gn.v20190627\r\n",
      "CMIP6.CMIP.INM.INM-CM4-8.historical.r1i1p1f1.day.clt.gr1.v20190530\r\n",
      "CMIP6.CMIP.INM.INM-CM5-0.historical.r1i1p1f1.day.clt.gr1.v20190610\r\n",
      "CMIP6.CMIP.IPSL.IPSL-CM6A-LR.historical.r1i1p1f1.day.clt.gr.v20180803\r\n",
      "CMIP6.CMIP.KIOST.KIOST-ESM.historical.r1i1p1f1.day.clt.gr1.v20191202\r\n",
      "CMIP6.CMIP.MIROC.MIROC6.historical.r1i1p1f1.day.clt.gn.v20191016\r\n",
      "CMIP6.CMIP.MPI-M.MPI-ESM1-2-HR.historical.r1i1p1f1.day.clt.gn.v20190710\r\n",
      "CMIP6.CMIP.MPI-M.MPI-ESM1-2-LR.historical.r1i1p1f1.day.clt.gn.v20190710\r\n",
      "CMIP6.CMIP.MRI.MRI-ESM2-0.historical.r1i1p1f1.day.clt.gn.v20190603\r\n",
      "CMIP6.CMIP.NCAR.CESM2-FV2.historical.r1i1p1f1.day.clt.gn.v20191120\r\n",
      "CMIP6.CMIP.NCAR.CESM2-WACCM-FV2.historical.r1i1p1f1.day.clt.gn.v20191120\r\n",
      "CMIP6.CMIP.NCAR.CESM2-WACCM.historical.r1i1p1f1.day.clt.gn.v20190227\r\n",
      "CMIP6.CMIP.NCAR.CESM2.historical.r1i1p1f1.day.clt.gn.v20190308\r\n",
      "CMIP6.CMIP.NCC.NorESM2-LM.historical.r1i1p1f1.day.clt.gn.v20190815\r\n",
      "CMIP6.CMIP.NCC.NorESM2-MM.historical.r1i1p1f1.day.clt.gn.v20191108\r\n",
      "CMIP6.CMIP.NIMS-KMA.KACE-1-0-G.historical.r1i1p1f1.day.clt.gr.v20190911\r\n",
      "CMIP6.CMIP.NOAA-GFDL.GFDL-CM4.historical.r1i1p1f1.day.clt.gr1.v20180701\r\n",
      "CMIP6.CMIP.NOAA-GFDL.GFDL-CM4.historical.r1i1p1f1.day.clt.gr2.v20180701\r\n",
      "CMIP6.CMIP.NUIST.NESM3.historical.r1i1p1f1.day.clt.gn.v20190812\r\n",
      "CMIP6.CMIP.SNU.SAM0-UNICON.historical.r1i1p1f1.day.clt.gn.v20190323\r\n"
     ]
    }
   ],
   "source": [
    "!clef --remote cmip6 -v clt  -e historical -t day  -mi r1i1p1f1 --cite"
   ]
  },
  {
   "cell_type": "markdown",
   "metadata": {},
   "source": [
    "The citations are listed in a cmip_citations.txt file in the current directory."
   ]
  },
  {
   "cell_type": "code",
   "execution_count": 21,
   "metadata": {
    "scrolled": true
   },
   "outputs": [
    {
     "name": "stdout",
     "output_type": "stream",
     "text": [
      "Lee, Wei-Liang; Liang, Hsin-Chien (2020). AS-RCEC TaiESM1.0 model output prepared for CMIP6 CMIP historical. Version v20200626. Earth System Grid Federation. https://doi.org/10.22033/ESGF/CMIP6.9755\r\n",
      "Danek, Christopher; Shi, Xiaoxu; Stepanek, Christian; Yang, Hu; Barbi, Dirk; Hegewald, Jan; Lohmann, Gerrit (2020). AWI AWI-ESM1.1LR model output prepared for CMIP6 CMIP historical. Version v20200212. Earth System Grid Federation. https://doi.org/10.22033/ESGF/CMIP6.9328\r\n",
      "Wu, Tongwen; Chu, Min; Dong, Min; Fang, Yongjie; Jie, Weihua; Li, Jianglong; Li, Weiping; Liu, Qianxia; Shi, Xueli; Xin, Xiaoge; Yan, Jinghui; Zhang, Fang; Zhang, Jie; Zhang, Li; Zhang, Yanwu (2018). BCC BCC-CSM2MR model output prepared for CMIP6 CMIP historical. Version v20181127. Earth System Grid Federation. https://doi.org/10.22033/ESGF/CMIP6.2948\r\n",
      "Zhang, Jie; Wu, Tongwen; Shi, Xueli; Zhang, Fang; Li, Jianglong; Chu, Min; Liu, Qianxia; Yan, Jinghui; Ma, Qiang; Wei, Min (2018). BCC BCC-ESM1 model output prepared for CMIP6 CMIP historical. Version v20181220. Earth System Grid Federation. https://doi.org/10.22033/ESGF/CMIP6.2949\r\n"
     ]
    }
   ],
   "source": [
    "! head -n 4 cmip_citations.txt "
   ]
  },
  {
   "cell_type": "markdown",
   "metadata": {},
   "source": [
    "Please note that some of the more recently published datasets might not have citations information available yet on the WDCC server. CleF retrieves the information from different fields and put them together to form a correct citation in the required format. If some of these fields are not available the citation might be incomplete, so always check the entire file before using it.<br>\n",
    "See below for an example of this:"
   ]
  },
  {
   "cell_type": "code",
   "execution_count": 22,
   "metadata": {
    "scrolled": true
   },
   "outputs": [
    {
     "name": "stdout",
     "output_type": "stream",
     "text": [
      "/g/data/oi10/replicas/CMIP6/ScenarioMIP/AS-RCEC/TaiESM1/ssp585/r1i1p1f1/Amon/pr/gn/v20200901\n",
      " (2018). AS-RCEC TaiESM1.0 model output prepared for CMIP6 ScenarioMIP ssp585. Earth System Grid Federation. http://cera-www.dkrz.de/WDCC/meta/CMIP6/CMIP6.ScenarioMIP.AS-RCEC.TaiESM1.ssp585"
     ]
    }
   ],
   "source": [
    "! clef --local cmip6 --model TaiESM1 --experiment ssp585 --variable pr --table Amon --cite\n",
    "!head -n 4 cmip_citations.txt"
   ]
  },
  {
   "cell_type": "markdown",
   "metadata": {},
   "source": [
    "### More tips on queries"
   ]
  },
  {
   "cell_type": "markdown",
   "metadata": {},
   "source": [
    "#### About experiment_family"
   ]
  },
  {
   "cell_type": "markdown",
   "metadata": {},
   "source": [
    "Experiment_family is a facet present only for CMIP5, it allows you to select all the experiments following in the same category. The correspondent in CMIP6 is activity. It can be very useful, for example, if you want to find all the available rcp experiments."
   ]
  },
  {
   "cell_type": "code",
   "execution_count": 1,
   "metadata": {},
   "outputs": [
    {
     "name": "stdout",
     "output_type": "stream",
     "text": [
      "/g/data/al33/replicas/CMIP5/combined/CMCC/CMCC-CM/rcp45/mon/ocean/Omon/r1i1p1/v20120518/tos/\n",
      "/g/data/al33/replicas/CMIP5/combined/CMCC/CMCC-CM/rcp45/mon/ocean/Omon/r1i1p1/v20170725/tos/\n",
      "/g/data/al33/replicas/CMIP5/combined/CMCC/CMCC-CM/rcp85/mon/ocean/Omon/r1i1p1/v20120528/tos/\n",
      "/g/data/al33/replicas/CMIP5/combined/CMCC/CMCC-CM/rcp85/mon/ocean/Omon/r1i1p1/v20170725/tos/\n",
      "\n",
      "Everything available on ESGF is also available locally\n"
     ]
    }
   ],
   "source": [
    "!clef cmip5 -m CMCC-CM --experiment_family RCP -t Omon -v tos -en r1i1p1"
   ]
  },
  {
   "cell_type": "markdown",
   "metadata": {},
   "source": [
    "However, not all experiments belong to a family and searching for both experiment and experiment_family at the same time can give unexpected results.<br>\n",
    "Let's look at an example, if I want to get all the rcps experiments and historical I might be tempted to pass them as constraints in the same query:"
   ]
  },
  {
   "cell_type": "code",
   "execution_count": 10,
   "metadata": {},
   "outputs": [
    {
     "name": "stdout",
     "output_type": "stream",
     "text": [
      "ERROR: No matches found on ESGF, check at https://esgf.nci.org.au/search/esgf-nci?query=&type=File&distrib=True&replica=False&latest=True&project=CMIP5&ensemble=r1i1p1&experiment=historical&model=CMCC-CM&cmor_table=Omon&variable=tos&experiment_family=RCP\r\n"
     ]
    }
   ],
   "source": [
    "!clef cmip5 -m CMCC-CM -e historical --experiment_family RCP -t Omon -v tos -en r1i1p1"
   ]
  },
  {
   "cell_type": "markdown",
   "metadata": {},
   "source": [
    "The ESGF query uses an *AND* operator for all the constraints we pass. We couldn't find any matches because both the experiment and experiment_family constraints have to be satisfied. Historical is not part of the RCP family and so no results are returned. Similarly if we pass rcp45 as experiment as well as the family RCP we will only get the rcp45 results."
   ]
  },
  {
   "cell_type": "code",
   "execution_count": 11,
   "metadata": {},
   "outputs": [
    {
     "name": "stdout",
     "output_type": "stream",
     "text": [
      "/g/data/al33/replicas/CMIP5/combined/CMCC/CMCC-CM/rcp45/mon/ocean/Omon/r1i1p1/v20120518/tos/\n",
      "/g/data/al33/replicas/CMIP5/combined/CMCC/CMCC-CM/rcp45/mon/ocean/Omon/r1i1p1/v20170725/tos/\n",
      "\n",
      "Everything available on ESGF is also available locally\n"
     ]
    }
   ],
   "source": [
    "!clef cmip5 -m CMCC-CM -e rcp45 --experiment_family RCP -t Omon -v tos -en r1i1p1"
   ]
  },
  {
   "cell_type": "markdown",
   "metadata": {},
   "source": [
    "Finally, it is possible to use experiment_family also in the local search, we aimed to reproduce the same results that you would get for the web-based ESGF query, so they behave in the same way."
   ]
  },
  {
   "cell_type": "code",
   "execution_count": 12,
   "metadata": {
    "scrolled": true
   },
   "outputs": [
    {
     "name": "stdout",
     "output_type": "stream",
     "text": [
      "/g/data/al33/replicas/CMIP5/combined/CMCC/CMCC-CM/rcp45/mon/ocean/Omon/r1i1p1/v20120518/tos\r\n",
      "/g/data/al33/replicas/CMIP5/combined/CMCC/CMCC-CM/rcp45/mon/ocean/Omon/r1i1p1/v20170725/tos\r\n",
      "/g/data/al33/replicas/CMIP5/combined/CMCC/CMCC-CM/rcp85/mon/ocean/Omon/r1i1p1/v20120528/tos\r\n",
      "/g/data/al33/replicas/CMIP5/combined/CMCC/CMCC-CM/rcp85/mon/ocean/Omon/r1i1p1/v20170725/tos\r\n"
     ]
    }
   ],
   "source": [
    "!clef --local cmip5 -m CMCC-CM --experiment_family RCP -t Omon -v tos -en r1i1p1"
   ]
  }
 ],
 "metadata": {
  "kernelspec": {
   "display_name": "Python [conda env:analysis3-20.07]",
   "language": "python",
   "name": "conda-env-analysis3-20.07-py"
  },
  "language_info": {
   "codemirror_mode": {
    "name": "ipython",
    "version": 3
   },
   "file_extension": ".py",
   "mimetype": "text/x-python",
   "name": "python",
   "nbconvert_exporter": "python",
   "pygments_lexer": "ipython3",
   "version": "3.7.8"
  }
 },
 "nbformat": 4,
 "nbformat_minor": 2
}
