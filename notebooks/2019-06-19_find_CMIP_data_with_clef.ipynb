{
 "cells": [
  {
   "cell_type": "markdown",
   "metadata": {},
   "source": [
    "# Using CleF - Climate Finder to discover ESGF data at NCI"
   ]
  },
  {
   "cell_type": "markdown",
   "metadata": {},
   "source": [
    "This notebook shows examples of how to use the CleF (Climate Finder) python module to search for ESGF data on the NCI server. <br>\n",
    "Currently the tool is set up for CMIP5 and CMIP6 data, but other ESGF dataset like CORDEX will be available in the future. <br> \n",
    "\n",
    "CleF is currently installed in the unstable version of the CMS conda module analysis3. This is managed by the CMS and is available simply by running\n",
    "  >  module use /g/data3/hh5/public/modules <br>\n",
    "  >  module load conda/analysis3-unstable\n",
    "  \n",
    "You could use the module interactively, for the moment we will use its command line options. <br>\n",
    "Let's start!"
   ]
  },
  {
   "cell_type": "markdown",
   "metadata": {},
   "source": [
    "## Command syntax"
   ]
  },
  {
   "cell_type": "code",
   "execution_count": null,
   "metadata": {},
   "outputs": [],
   "source": [
    "# run this if you haven't done so already in the terminal\n",
    "!module use /g/data3/hh5/public/modules\n",
    "!module load conda/analysis3-unstable"
   ]
  },
  {
   "cell_type": "code",
   "execution_count": 1,
   "metadata": {},
   "outputs": [
    {
     "name": "stdout",
     "output_type": "stream",
     "text": [
      "Usage: clef [OPTIONS] COMMAND [ARGS]...\r\n",
      "\r\n",
      "Options:\r\n",
      "  --remote   returns only ESGF search results\r\n",
      "  --local    returns only local files matching ESGF search\r\n",
      "  --missing  returns only missing files matching ESGF search\r\n",
      "  --request  send NCI request to download missing files matching ESGF search\r\n",
      "  --debug    Show debug info\r\n",
      "  --help     Show this message and exit.\r\n",
      "\r\n",
      "Commands:\r\n",
      "  cmip5  Search ESGF and local database for CMIP5 files Constraints can be...\r\n",
      "  cmip6  Search ESGF and local database for CMIP6 files Constraints can be...\r\n",
      "  ds     Search local database for non-ESGF datasets\r\n"
     ]
    }
   ],
   "source": [
    "!clef"
   ]
  },
  {
   "cell_type": "markdown",
   "metadata": {},
   "source": [
    "By simpling running the command **clef** with no arguments, the tool shows the help message and then exits, basically it is equivalent to \n",
    "> clef --help <br>\n",
    "\n",
    "We can see currently there are 3 sub-commands, **ds** to search for non-ESGF collections and one for each cmip dataset: **cmip5** and **cmip6**.  <br>\n",
    "There are also five different options that can be passed before the sub-commands, one we have already seen is *--help*. The others are used to modify how the tool will deal with the main query output. We will have a look at them and at **ds** later. <br>\n",
    "Let's start from searching some CMIP5 data, to see what we can pass to the **cmip5** sub-command we can simply run it with its *--help* option."
   ]
  },
  {
   "cell_type": "markdown",
   "metadata": {},
   "source": [
    "## CMIP5"
   ]
  },
  {
   "cell_type": "code",
   "execution_count": 2,
   "metadata": {
    "scrolled": true
   },
   "outputs": [
    {
     "name": "stdout",
     "output_type": "stream",
     "text": [
      "Usage: clef cmip5 [OPTIONS] [QUERY]...\r\n",
      "\r\n",
      "  Search ESGF and local database for CMIP5 files\r\n",
      "\r\n",
      "  Constraints can be specified multiple times, in which case they are\r\n",
      "  combined    using OR: -v tas -v tasmin will return anything matching\r\n",
      "  variable = 'tas' or variable = 'tasmin'. The --latest flag will check ESGF\r\n",
      "  for the latest version available, this is the default behaviour\r\n",
      "\r\n",
      "Options:\r\n",
      "  -e, --experiment x              CMIP5 experiment: piControl, rcp85, amip ...\r\n",
      "  --experiment_family [Atmos-only|Control|Decadal|ESM|Historical|Idealized|Paleo|RCP]\r\n",
      "                                  CMIP5 experiment family: Decadal, RCP ...\r\n",
      "  -m, --model x                   CMIP5 model acronym: ACCESS1.3, MIROC5 ...\r\n",
      "  -t, --table, --mip [Amon|Omon|OImon|LImon|Lmon|6hrPlev|6hrLev|3hr|Oclim|Oyr|aero|cfOff|cfSites|cfMon|cfDay|cf3hr|day|fx|grids]\r\n",
      "  -v, --variable x                Variable name as shown in filanames: tas,\r\n",
      "                                  pr, sic ...\r\n",
      "  -en, --ensemble, --member TEXT  CMIP5 ensemble member: r#i#p#\r\n",
      "  --frequency [mon|day|3hr|6hr|fx|yr|monClim|subhr]\r\n",
      "  --realm [atmos|ocean|land|landIce|seaIce|aerosol|atmosChem|ocnBgchem]\r\n",
      "  --institution TEXT              Modelling group institution id: MIROC, IPSL,\r\n",
      "                                  MRI ...\r\n",
      "  --cf_standard_name TEXT         CF variable standard_name, use instead of\r\n",
      "                                  variable constraint\r\n",
      "  --format [file|dataset]         Return output for datasets (default) or\r\n",
      "                                  individual files\r\n",
      "  --latest / --all-versions       Return only the latest version or all of\r\n",
      "                                  them. Default: --latest\r\n",
      "  --replica / --no-replica        Return both original files and replicas.\r\n",
      "                                  Default: --no-replica\r\n",
      "  --distrib / --no-distrib        Distribute search across all ESGF nodes.\r\n",
      "                                  Default: --distrib\r\n",
      "  --debug / --no-debug            Show debug output. Default: --no-debug\r\n",
      "  --help                          Show this message and exit.\r\n"
     ]
    }
   ],
   "source": [
    "!clef cmip5 --help"
   ]
  },
  {
   "cell_type": "markdown",
   "metadata": {},
   "source": [
    "### Passing arguments and options"
   ]
  },
  {
   "cell_type": "markdown",
   "metadata": {},
   "source": [
    "The *help* shows all the constraints we can pass to the tool, there are also some additional options which can change the way we run our search. For the moment we can ignore these and use their default values. <br>\n",
    "Some of the constraints can be passed using an abbreviation,like *-v* instead of *--variable*. This is handy once you are more familiar with the tool. <br>\n",
    "The same option can have more than one name, for example *--ensemble* can also be passed as *--member*, this is because the terminology has changed between CMIP5 and CMIP6. <br>\n",
    "You can pass how many constraints you want and pass the same constraint more than once. Let's see what happens though if we do not pass any constraint."
   ]
  },
  {
   "cell_type": "code",
   "execution_count": 3,
   "metadata": {},
   "outputs": [
    {
     "name": "stdout",
     "output_type": "stream",
     "text": [
      "Too many results 2296637, try limiting your search:\r\n",
      "  https://esgf.nci.org.au/search/esgf-nci?query=&distrib=True&replica=False&latest=True&project=CMIP5\r\n"
     ]
    }
   ],
   "source": [
    "!clef cmip5"
   ]
  },
  {
   "cell_type": "code",
   "execution_count": 4,
   "metadata": {},
   "outputs": [
    {
     "name": "stdout",
     "output_type": "stream",
     "text": [
      "No matches found on ESGF, check at https://esgf.nci.org.au/search/esgf-nci?query=&distrib=True&replica=False&latest=True&project=CMIP5&ensemble=r2i1p1s&experiment=historical&cmor_table=day&variable=tasmin\r\n"
     ]
    }
   ],
   "source": [
    "!clef cmip5 --variable tasmin --experiment historical --table day --ensemble r2i1p1s"
   ]
  },
  {
   "cell_type": "markdown",
   "metadata": {},
   "source": [
    "Oops that wasn't reasonable! I mispelled the ensemble \"r2i1p1s\" does not exists and the tool is telling me it cannot find any matches."
   ]
  },
  {
   "cell_type": "code",
   "execution_count": 5,
   "metadata": {},
   "outputs": [
    {
     "name": "stdout",
     "output_type": "stream",
     "text": [
      "Usage: clef cmip5 [OPTIONS] [QUERY]...\r\n",
      "Try \"clef cmip5 --help\" for help.\r\n",
      "\r\n",
      "Error: Invalid value for \"--table\" / \"--mip\" / \"-t\": invalid choice: days. (choose from Amon, Omon, OImon, LImon, Lmon, 6hrPlev, 6hrLev, 3hr, Oclim, Oyr, aero, cfOff, cfSites, cfMon, cfDay, cf3hr, day, fx, grids)\r\n"
     ]
    }
   ],
   "source": [
    "!clef cmip5 --variable tasmin --experiment historical --table days --ensemble r2i1p1"
   ]
  },
  {
   "cell_type": "markdown",
   "metadata": {},
   "source": [
    "Made another spelling mistake, in this case the tool knows that I passed a wrong value and lists for me all the available options for the CMOR table. Eventually we are aiming to validate all the arguments we can, although for some it is no possible to pass all the possible values (ensemble for example)."
   ]
  },
  {
   "cell_type": "code",
   "execution_count": 6,
   "metadata": {
    "scrolled": false
   },
   "outputs": [
    {
     "name": "stdout",
     "output_type": "stream",
     "text": [
      "/g/data1b/al33/replicas/CMIP5/combined/IPSL/IPSL-CM5A-LR/historical/day/atmos/day/r2i1p1/v20130506/tasmin\r\n",
      "/g/data1b/al33/replicas/CMIP5/combined/IPSL/IPSL-CM5A-MR/historical/day/atmos/day/r2i1p1/v20130506/tasmin\r\n",
      "/g/data1b/al33/replicas/CMIP5/combined/MOHC/HadGEM2-ES/historical/day/atmos/day/r2i1p1/v20110418/tasmin\r\n",
      "/g/data1b/al33/replicas/CMIP5/combined/MOHC/HadCM3/historical/day/atmos/day/r2i1p1/v20140110/tasmin\r\n",
      "/g/data1b/al33/replicas/CMIP5/combined/NOAA-GFDL/GFDL-CM3/historical/day/atmos/day/r2i1p1/v20120227/tasmin\r\n",
      "/g/data1b/al33/replicas/CMIP5/combined/MPI-M/MPI-ESM-P/historical/day/atmos/day/r2i1p1/v20120315/tasmin\r\n",
      "/g/data1b/al33/replicas/CMIP5/combined/MPI-M/MPI-ESM-MR/historical/day/atmos/day/r2i1p1/v20120503/tasmin\r\n",
      "/g/data1b/al33/replicas/CMIP5/combined/MPI-M/MPI-ESM-LR/historical/day/atmos/day/r2i1p1/v20111006/tasmin\r\n",
      "/g/data1b/al33/replicas/CMIP5/combined/CNRM-CERFACS/CNRM-CM5/historical/day/atmos/day/r2i1p1/v20120703/tasmin\r\n",
      "/g/data1/rr3/publications/CMIP5/output1/CSIRO-QCCCE/CSIRO-Mk3-6-0/historical/day/atmos/day/r2i1p1/latest/tasmin\r\n",
      "/g/data1b/al33/replicas/CMIP5/combined/MOHC/HadGEM2-CC/historical/day/atmos/day/r2i1p1/v20111129/tasmin\r\n",
      "\r\n",
      "Everything available on ESGF is also available locally\r\n"
     ]
    }
   ],
   "source": [
    "!clef cmip5 --variable tasmin --experiment historical --table day --ensemble r2i1p1"
   ]
  },
  {
   "cell_type": "markdown",
   "metadata": {},
   "source": [
    "The tool first search on the ESGF for all the files that match the constraints we passed. It then looks for these file locally and if it finds them it returns their path on raijin.\n",
    "For all the files it can't find locally, the tool check an NCI table listing the downloads they are working on. Finally it lists missing datasets which are in the download queue, followed by the datasets that are not available locally and no one has yet requested. <br>\n",
    "\n",
    "The tool list the datasets paths and dataset_ids, if you want you can get a more detailed list by file by passing the *--format file* option. <br>\n",
    "\n",
    "The search by default returns the latest available version. What if we want to have a look at all the available versions?"
   ]
  },
  {
   "cell_type": "code",
   "execution_count": 7,
   "metadata": {
    "scrolled": true
   },
   "outputs": [
    {
     "name": "stdout",
     "output_type": "stream",
     "text": [
      "/g/data1/rr3/publications/CMIP5/output1/CSIRO-BOM/ACCESS1-0/historical/mon/atmos/Amon/r1i1p1/latest/tasmin\r\n",
      "\r\n",
      "Everything available on ESGF is also available locally\r\n"
     ]
    }
   ],
   "source": [
    "!clef cmip5 --variable tasmin --experiment historical --table Amon -m ACCESS1.0 --all-versions --format file"
   ]
  },
  {
   "cell_type": "markdown",
   "metadata": {},
   "source": [
    "The option *--all-versions* is the reverse of *--latest*, which is also the default, so we get a list of all available versions. <br>\n",
    "Since all the ACCESS1.0 data is available on NCI (which is the authoritative source for the ACCESS models) the tool doesn't find any missing datasets and let us know about it."
   ]
  },
  {
   "cell_type": "markdown",
   "metadata": {},
   "source": [
    "## CMIP6"
   ]
  },
  {
   "cell_type": "code",
   "execution_count": 8,
   "metadata": {
    "scrolled": true
   },
   "outputs": [
    {
     "name": "stdout",
     "output_type": "stream",
     "text": [
      "Usage: clef cmip6 [OPTIONS] [QUERY]...\r\n",
      "\r\n",
      "  Search ESGF and local database for CMIP6 files\r\n",
      "\r\n",
      "  Constraints can be specified multiple times, in which case they are\r\n",
      "  combined    using OR: -v tas -v tasmin will return anything matching\r\n",
      "  variable = 'tas' or variable = 'tasmin'. The --latest flag will check ESGF\r\n",
      "  for the latest version available, this is the default behaviour\r\n",
      "\r\n",
      "Options:\r\n",
      "  -mip, --activity [AerChemMIP|C4MIP|CDRMIP|CFMIP|CMIP|CORDEX|DAMIP|DCPP|DynVarMIP|FAFMIP|GMMIP|GeoMIP|HighResMIP|ISMIP6|LS3MIP|LUMIP|OMIP|PAMIP|PMIP|RFMIP|SIMIP|ScenarioMIP|VIACSAB|VolMIP]\r\n",
      "  -e, --experiment x              CMIP6 experiment, list of available depends\r\n",
      "                                  on activity\r\n",
      "  --source_type [AER|AGCM|AOGCM|BGC|CHEM|ISM|LAND|OGCM|RAD|SLAB]\r\n",
      "  -t, --table x                   CMIP6 CMOR table: Amon, SIday, Oday ...\r\n",
      "  -m, --model, --source_id x      CMIP6 model id: GFDL-AM4, CNRM-CM6-1 ...\r\n",
      "  -v, --variable x                CMIP6 variable name as in filenames\r\n",
      "  -mi, --member TEXT              CMIP6 member id: <sub-exp-id>-r#i#p#f#\r\n",
      "  -g, --grid, --grid_label TEXT   CMIP6 grid label: i.e. gn for the model\r\n",
      "                                  native grid\r\n",
      "  -nr, --resolution, --nominal_resolution TEXT\r\n",
      "                                  Approximate resolution: '250 km', pass in\r\n",
      "                                  quotes\r\n",
      "  --frequency [1hr|1hrCM|1hrPt|3hr|3hrPt|6hr|6hrPt|day|dec|fx|mon|monC|monPt|subhrPt|yr|yrPt]\r\n",
      "  --realm [atmos|ocean|land|landIce|seaIce|aerosol|atmosChem|ocnBgchem]\r\n",
      "  -se, --sub_experiment_id TEXT   Only available for hindcast and forecast\r\n",
      "                                  experiments: sYYYY\r\n",
      "  -vl, --variant_label TEXT       Indicates a model variant: r#i#p#f#\r\n",
      "  --institution TEXT              Modelling group institution id: IPSL, NOAA-\r\n",
      "                                  GFDL ...\r\n",
      "  --cf_standard_name TEXT         CF variable standard_name, use instead of\r\n",
      "                                  variable constraint\r\n",
      "  --format [file|dataset]         Return output for datasets (default) or\r\n",
      "                                  individual files\r\n",
      "  --latest / --all-versions       Return only the latest version or all of\r\n",
      "                                  them. Default: --latest\r\n",
      "  --replica / --no-replica        Return both original files and replicas.\r\n",
      "                                  Default: --no-replica\r\n",
      "  --distrib / --no-distrib        Distribute search across all ESGF nodes.\r\n",
      "                                  Default: --distrib\r\n",
      "  --debug / --no-debug            Show debug output. Default: --no-debug\r\n",
      "  --help                          Show this message and exit.\r\n"
     ]
    }
   ],
   "source": [
    "!clef cmip6 --help"
   ]
  },
  {
   "cell_type": "markdown",
   "metadata": {},
   "source": [
    "The **cmip6** sub-command works in the same way but some constraints are different. As well as changes in terminology CMIP6 has more attributes (*facets*) that can be used to search. <br>\n",
    "Examples of these are the **activity** which groups experiments, **resolution** which is an approximation of the actual resolution and **grid**."
   ]
  },
  {
   "cell_type": "markdown",
   "metadata": {},
   "source": [
    "### Controlling the ouput: clef options"
   ]
  },
  {
   "cell_type": "code",
   "execution_count": 9,
   "metadata": {
    "scrolled": true
   },
   "outputs": [
    {
     "name": "stdout",
     "output_type": "stream",
     "text": [
      "/g/data1b/oi10/replicas/CMIP6/CMIP/CNRM-CERFACS/CNRM-CM6-1/1pctCO2/r1i1p1f2/Amon/tasmax/gr/v20180626/\r\n",
      "/g/data1b/oi10/replicas/CMIP6/CMIP/CNRM-CERFACS/CNRM-CM6-1/1pctCO2/r1i1p1f2/Amon/tasmin/gr/v20180626/\r\n",
      "/g/data1b/oi10/replicas/CMIP6/CMIP/CNRM-CERFACS/CNRM-ESM2-1/1pctCO2/r1i1p1f2/Amon/tasmax/gr/v20181018/\r\n",
      "/g/data1b/oi10/replicas/CMIP6/CMIP/CNRM-CERFACS/CNRM-ESM2-1/1pctCO2/r1i1p1f2/Amon/tasmin/gr/v20181018/\r\n",
      "/g/data1b/oi10/replicas/CMIP6/CMIP/IPSL/IPSL-CM6A-LR/1pctCO2/r1i1p1f1/Amon/tasmax/gr/v20180727/\r\n",
      "/g/data1b/oi10/replicas/CMIP6/CMIP/IPSL/IPSL-CM6A-LR/1pctCO2/r1i1p1f1/Amon/tasmin/gr/v20180727/\r\n"
     ]
    }
   ],
   "source": [
    "!clef --local cmip6 -e 1pctCO2 -t Amon -v tasmax -v tasmin -g gr"
   ]
  },
  {
   "cell_type": "markdown",
   "metadata": {},
   "source": [
    "In this example we used the *--local* option for the main command **clef** to get only the local matching data path as output. <br> \n",
    "Note also that:\n",
    "- we are using abbreviations for the options where available; \n",
    "- we are passing the variable *-v* option twice; \n",
    "- we used the CMIP6 specific option *-g/--grid* to search for all data that is not on the model native grid. This doesn't indicate a grid common to all the CMIP6 output only to the model itself, the same is true for member_id and other attributes.<br>\n",
    "\n",
    "*--local* is actually executing the search directly on the NCI MAS database, which is different from the default query where the search is executed first on the ESGF and then its results are matched locally.<br>\n",
    "In the example above the final result is exactly the same, whichever way we perform the query. This way of searching can give you more results if a node is offline or if a version have been unpublished from the ESGF but is still available locally. "
   ]
  },
  {
   "cell_type": "code",
   "execution_count": 11,
   "metadata": {
    "scrolled": false
   },
   "outputs": [
    {
     "name": "stdout",
     "output_type": "stream",
     "text": [
      "\r\n",
      "Available on ESGF but not locally:\r\n",
      "CMIP6.CMIP.CNRM-CERFACS.CNRM-CM6-1.1pctCO2.r1i1p1f2.Amon.clw.gr.v20180626\r\n",
      "CMIP6.CMIP.CNRM-CERFACS.CNRM-CM6-1.1pctCO2.r1i1p1f2.Amon.clwvi.gr.v20180626\r\n",
      "CMIP6.CMIP.CNRM-CERFACS.CNRM-ESM2-1.1pctCO2.r1i1p1f2.Amon.clw.gr.v20181018\r\n",
      "CMIP6.CMIP.CNRM-CERFACS.CNRM-ESM2-1.1pctCO2.r1i1p1f2.Amon.clwvi.gr.v20181018\r\n",
      "CMIP6.CMIP.CNRM-CERFACS.CNRM-ESM2-1.1pctCO2.r2i1p1f2.Amon.clw.gr.v20181031\r\n",
      "CMIP6.CMIP.CNRM-CERFACS.CNRM-ESM2-1.1pctCO2.r2i1p1f2.Amon.clwvi.gr.v20181031\r\n",
      "CMIP6.CMIP.CNRM-CERFACS.CNRM-ESM2-1.1pctCO2.r3i1p1f2.Amon.clw.gr.v20181107\r\n",
      "CMIP6.CMIP.CNRM-CERFACS.CNRM-ESM2-1.1pctCO2.r3i1p1f2.Amon.clwvi.gr.v20181107\r\n",
      "CMIP6.CMIP.CNRM-CERFACS.CNRM-ESM2-1.1pctCO2.r4i1p1f2.Amon.clw.gr.v20190328\r\n",
      "CMIP6.CMIP.CNRM-CERFACS.CNRM-ESM2-1.1pctCO2.r4i1p1f2.Amon.clwvi.gr.v20190328\r\n",
      "CMIP6.CMIP.IPSL.IPSL-CM6A-LR.1pctCO2.r1i1p1f1.Amon.clw.gr.v20180727\r\n",
      "CMIP6.CMIP.IPSL.IPSL-CM6A-LR.1pctCO2.r1i1p1f1.Amon.clwvi.gr.v20180727\r\n"
     ]
    }
   ],
   "source": [
    "!clef --missing cmip6 -e 1pctCO2 -v clw -v clwvi -t Amon -g gr"
   ]
  },
  {
   "cell_type": "markdown",
   "metadata": {},
   "source": [
    "This time we used the *--missing* option and the tool returned only the results matching the constraints that are available on the ESGF but not locally (we changed variables to make sure to get some missing data back)."
   ]
  },
  {
   "cell_type": "code",
   "execution_count": 12,
   "metadata": {
    "scrolled": true
   },
   "outputs": [
    {
     "name": "stdout",
     "output_type": "stream",
     "text": [
      "CMIP6.CMIP.CNRM-CERFACS.CNRM-ESM2-1.1pctCO2.r3i1p1f2.Amon.tasmax.gr.v20181107\r\n",
      "CMIP6.CMIP.CNRM-CERFACS.CNRM-ESM2-1.1pctCO2.r4i1p1f2.Amon.tasmin.gr.v20190328\r\n",
      "CMIP6.CMIP.IPSL.IPSL-CM6A-LR.1pctCO2.r1i1p1f1.Amon.tasmax.gr.v20180727\r\n",
      "CMIP6.CMIP.CNRM-CERFACS.CNRM-ESM2-1.1pctCO2.r2i1p1f2.Amon.tasmin.gr.v20181031\r\n",
      "CMIP6.CMIP.CNRM-CERFACS.CNRM-ESM2-1.1pctCO2.r4i1p1f2.Amon.tasmax.gr.v20190328\r\n",
      "CMIP6.CMIP.CNRM-CERFACS.CNRM-ESM2-1.1pctCO2.r1i1p1f2.Amon.tasmin.gr.v20181018\r\n",
      "CMIP6.CMIP.CNRM-CERFACS.CNRM-ESM2-1.1pctCO2.r1i1p1f2.Amon.tasmax.gr.v20181018\r\n",
      "CMIP6.CMIP.CNRM-CERFACS.CNRM-ESM2-1.1pctCO2.r2i1p1f2.Amon.tasmax.gr.v20181031\r\n",
      "CMIP6.CMIP.IPSL.IPSL-CM6A-LR.1pctCO2.r1i1p1f1.Amon.tasmin.gr.v20180727\r\n",
      "CMIP6.CMIP.CNRM-CERFACS.CNRM-ESM2-1.1pctCO2.r3i1p1f2.Amon.tasmin.gr.v20181107\r\n",
      "CMIP6.CMIP.CNRM-CERFACS.CNRM-CM6-1.1pctCO2.r1i1p1f2.Amon.tasmax.gr.v20180626\r\n",
      "CMIP6.CMIP.CNRM-CERFACS.CNRM-CM6-1.1pctCO2.r1i1p1f2.Amon.tasmin.gr.v20180626\r\n"
     ]
    }
   ],
   "source": [
    "!clef --remote cmip6 -e 1pctCO2 -v tasmin -v tasmax -t Amon -g gr"
   ]
  },
  {
   "cell_type": "markdown",
   "metadata": {},
   "source": [
    "The *--remote* option returns the Dataset_ids of the data matching the constraints, regardless that they are available locally or not."
   ]
  },
  {
   "cell_type": "code",
   "execution_count": 13,
   "metadata": {
    "scrolled": true
   },
   "outputs": [
    {
     "name": "stdout",
     "output_type": "stream",
     "text": [
      "CMIP6.CMIP.CNRM-CERFACS.CNRM-CM6-1.1pctCO2.r1i1p1f2.Amon.tasmax.gr.v20180626.tasmax_Amon_CNRM-CM6-1_1pctCO2_r1i1p1f2_gr_185001-199912.nc\r\n",
      "CMIP6.CMIP.CNRM-CERFACS.CNRM-CM6-1.1pctCO2.r1i1p1f2.Amon.tasmin.gr.v20180626.tasmin_Amon_CNRM-CM6-1_1pctCO2_r1i1p1f2_gr_185001-199912.nc\r\n",
      "CMIP6.CMIP.CNRM-CERFACS.CNRM-ESM2-1.1pctCO2.r1i1p1f2.Amon.tasmax.gr.v20181018.tasmax_Amon_CNRM-ESM2-1_1pctCO2_r1i1p1f2_gr_185001-199912.nc\r\n",
      "CMIP6.CMIP.CNRM-CERFACS.CNRM-ESM2-1.1pctCO2.r1i1p1f2.Amon.tasmin.gr.v20181018.tasmin_Amon_CNRM-ESM2-1_1pctCO2_r1i1p1f2_gr_185001-199912.nc\r\n",
      "CMIP6.CMIP.CNRM-CERFACS.CNRM-ESM2-1.1pctCO2.r2i1p1f2.Amon.tasmax.gr.v20181031.tasmax_Amon_CNRM-ESM2-1_1pctCO2_r2i1p1f2_gr_185001-199912.nc\r\n",
      "CMIP6.CMIP.CNRM-CERFACS.CNRM-ESM2-1.1pctCO2.r2i1p1f2.Amon.tasmin.gr.v20181031.tasmin_Amon_CNRM-ESM2-1_1pctCO2_r2i1p1f2_gr_185001-199912.nc\r\n",
      "CMIP6.CMIP.CNRM-CERFACS.CNRM-ESM2-1.1pctCO2.r3i1p1f2.Amon.tasmax.gr.v20181107.tasmax_Amon_CNRM-ESM2-1_1pctCO2_r3i1p1f2_gr_185001-199912.nc\r\n",
      "CMIP6.CMIP.CNRM-CERFACS.CNRM-ESM2-1.1pctCO2.r3i1p1f2.Amon.tasmin.gr.v20181107.tasmin_Amon_CNRM-ESM2-1_1pctCO2_r3i1p1f2_gr_185001-199912.nc\r\n",
      "CMIP6.CMIP.CNRM-CERFACS.CNRM-ESM2-1.1pctCO2.r4i1p1f2.Amon.tasmax.gr.v20190328.tasmax_Amon_CNRM-ESM2-1_1pctCO2_r4i1p1f2_gr_185001-199912.nc\r\n",
      "CMIP6.CMIP.CNRM-CERFACS.CNRM-ESM2-1.1pctCO2.r4i1p1f2.Amon.tasmin.gr.v20190328.tasmin_Amon_CNRM-ESM2-1_1pctCO2_r4i1p1f2_gr_185001-199912.nc\r\n",
      "CMIP6.CMIP.IPSL.IPSL-CM6A-LR.1pctCO2.r1i1p1f1.Amon.tasmax.gr.v20180727.tasmax_Amon_IPSL-CM6A-LR_1pctCO2_r1i1p1f1_gr_185001-199912.nc\r\n",
      "CMIP6.CMIP.IPSL.IPSL-CM6A-LR.1pctCO2.r1i1p1f1.Amon.tasmin.gr.v20180727.tasmin_Amon_IPSL-CM6A-LR_1pctCO2_r1i1p1f1_gr_185001-199912.nc\r\n"
     ]
    }
   ],
   "source": [
    "!clef --remote cmip6 -e 1pctCO2 -v tasmin -v tasmax -t Amon -g gr --format file"
   ]
  },
  {
   "cell_type": "markdown",
   "metadata": {},
   "source": [
    "Running the same command with the option *--format file* after the sub-command, will return the File_ids instead of the default Dataset_ids. <br>\n",
    "Please note that *--local*, *--remote* and *--missing* together with *--request*, which we will look at next, are all options of the main command **clef** and they need to come before any sub-commands."
   ]
  },
  {
   "cell_type": "markdown",
   "metadata": {},
   "source": [
    "## Requesting new data"
   ]
  },
  {
   "cell_type": "markdown",
   "metadata": {},
   "source": [
    "What should we do if we found out there is some data we are interested to that has not been downloaded or requested yet? <br>\n",
    "This is a complex data collection, NCI, in consultation with the community, decided the best way to manage it was to have one point of reference. Part of this agreement is that NCI will download the files and update the database that **clef** is interrrogating. After consultation with the community a priority list was decided and NCI has started downloading anything that falls into it as soon as become available. <br> <br>\n",
    "Users can then request from the NCI helpdesk, other combinations of variables, experiments etc that do not fall into this list. <br>\n",
    "The list is available from the NCI climate confluence website: <br>\n",
    "Even without consulting the list you can use **clef**, as we demonstrated above, to search for the data, if it is not queued or downloaded already **clef** will give you an option to request it from NCI. <br>\n",
    "Let's see how it works."
   ]
  },
  {
   "cell_type": "code",
   "execution_count": 14,
   "metadata": {
    "scrolled": false
   },
   "outputs": [
    {
     "name": "stdout",
     "output_type": "stream",
     "text": [
      "\n",
      "Available on ESGF but not locally:\n",
      "CMIP6.CMIP.CNRM-CERFACS.CNRM-CM6-1.1pctCO2.r1i1p1f2.Amon.clw.gr.v20180626\n",
      "CMIP6.CMIP.CNRM-CERFACS.CNRM-CM6-1.1pctCO2.r1i1p1f2.Amon.clwvi.gr.v20180626\n",
      "CMIP6.CMIP.CNRM-CERFACS.CNRM-ESM2-1.1pctCO2.r1i1p1f2.Amon.clw.gr.v20181018\n",
      "CMIP6.CMIP.CNRM-CERFACS.CNRM-ESM2-1.1pctCO2.r1i1p1f2.Amon.clwvi.gr.v20181018\n",
      "CMIP6.CMIP.CNRM-CERFACS.CNRM-ESM2-1.1pctCO2.r2i1p1f2.Amon.clw.gr.v20181031\n",
      "CMIP6.CMIP.CNRM-CERFACS.CNRM-ESM2-1.1pctCO2.r2i1p1f2.Amon.clwvi.gr.v20181031\n",
      "CMIP6.CMIP.CNRM-CERFACS.CNRM-ESM2-1.1pctCO2.r3i1p1f2.Amon.clw.gr.v20181107\n",
      "CMIP6.CMIP.CNRM-CERFACS.CNRM-ESM2-1.1pctCO2.r3i1p1f2.Amon.clwvi.gr.v20181107\n",
      "CMIP6.CMIP.CNRM-CERFACS.CNRM-ESM2-1.1pctCO2.r4i1p1f2.Amon.clw.gr.v20190328\n",
      "CMIP6.CMIP.CNRM-CERFACS.CNRM-ESM2-1.1pctCO2.r4i1p1f2.Amon.clwvi.gr.v20190328\n",
      "CMIP6.CMIP.IPSL.IPSL-CM6A-LR.1pctCO2.r1i1p1f1.Amon.clw.gr.v20180727\n",
      "CMIP6.CMIP.IPSL.IPSL-CM6A-LR.1pctCO2.r1i1p1f1.Amon.clwvi.gr.v20180727\n",
      "\n",
      "Finished writing file: CMIP6_pxp581_20190618T082540.txt\n",
      "Do you want to proceed with request for missing files? (N/Y)\n",
      " No is default\n",
      "Your request has been saved in \n",
      " /home/581/pxp581/coecms.github.io/notebooks//CMIP6_pxp581_20190618T082540.txt\n",
      "You can always use this file to request the data via the NCI helpdesk: help@nci.org.au  or https://help.nci.org.au.\n"
     ]
    }
   ],
   "source": [
    "%%bash\n",
    "clef --request cmip6 -e 1pctCO2 -v clw -v clwvi -t Amon -g gr\n",
    "no"
   ]
  },
  {
   "cell_type": "markdown",
   "metadata": {},
   "source": [
    "We run the same search which gave us as a result 4 missing datasets but this time we used the *--request* option after **clef**.<br>\n",
    "The tool will execute the search remotely, then look for matches locally and on the NCI download list. Having find none gives as an option of putting in a request. <br>\n",
    "It will accept any of the following as a positive answer:\n",
    "> Y  YES y yes <br>\n",
    "\n",
    "With anything else or if you don't pass anything it will assume you don't want to put in a request.<br>\n",
    "It still saved the request in a file we can use later.<br>"
   ]
  },
  {
   "cell_type": "code",
   "execution_count": 15,
   "metadata": {},
   "outputs": [
    {
     "name": "stdout",
     "output_type": "stream",
     "text": [
      "dataset_id=CMIP6.CMIP.CNRM-CERFACS.CNRM-CM6-1.1pctCO2.r1i1p1f2.Amon.clw.gr.v20180626\r\n",
      "dataset_id=CMIP6.CMIP.CNRM-CERFACS.CNRM-CM6-1.1pctCO2.r1i1p1f2.Amon.clwvi.gr.v20180626\r\n",
      "dataset_id=CMIP6.CMIP.CNRM-CERFACS.CNRM-ESM2-1.1pctCO2.r1i1p1f2.Amon.clw.gr.v20181018\r\n",
      "dataset_id=CMIP6.CMIP.CNRM-CERFACS.CNRM-ESM2-1.1pctCO2.r1i1p1f2.Amon.clwvi.gr.v20181018\r\n",
      "dataset_id=CMIP6.CMIP.CNRM-CERFACS.CNRM-ESM2-1.1pctCO2.r2i1p1f2.Amon.clw.gr.v20181031\r\n",
      "dataset_id=CMIP6.CMIP.CNRM-CERFACS.CNRM-ESM2-1.1pctCO2.r2i1p1f2.Amon.clwvi.gr.v20181031\r\n",
      "dataset_id=CMIP6.CMIP.CNRM-CERFACS.CNRM-ESM2-1.1pctCO2.r3i1p1f2.Amon.clw.gr.v20181107\r\n",
      "dataset_id=CMIP6.CMIP.CNRM-CERFACS.CNRM-ESM2-1.1pctCO2.r3i1p1f2.Amon.clwvi.gr.v20181107\r\n",
      "dataset_id=CMIP6.CMIP.CNRM-CERFACS.CNRM-ESM2-1.1pctCO2.r4i1p1f2.Amon.clw.gr.v20190328\r\n",
      "dataset_id=CMIP6.CMIP.CNRM-CERFACS.CNRM-ESM2-1.1pctCO2.r4i1p1f2.Amon.clwvi.gr.v20190328\r\n",
      "dataset_id=CMIP6.CMIP.IPSL.IPSL-CM6A-LR.1pctCO2.r1i1p1f1.Amon.clw.gr.v20180727\r\n",
      "dataset_id=CMIP6.CMIP.IPSL.IPSL-CM6A-LR.1pctCO2.r1i1p1f1.Amon.clwvi.gr.v20180727\r\n"
     ]
    }
   ],
   "source": [
    "!cat CMIP6_*.txt"
   ]
  },
  {
   "cell_type": "markdown",
   "metadata": {},
   "source": [
    "If I answered 'yes' the tool would have sent an e-mail to the NCI helpdesk with the text file attached, NCI can pass that file as input to their download tool and queue your request.\n",
    "NB if you are running clef from raijin you cannot send an e-mail so in that case the tool will remind you to send an e-mail attaching the requested file generated to the NCI helpdesk."
   ]
  },
  {
   "cell_type": "markdown",
   "metadata": {},
   "source": [
    "## Integrating the local query in your scripts"
   ]
  },
  {
   "cell_type": "markdown",
   "metadata": {},
   "source": [
    "Until now we looked at how to run queries from the command line, but you can use use the same query run by the *--local* option directly in your python code. By doing so you also get access to a lot more information on the datasets returned not only the path.<br>\n",
    "To do so we have first to import some functions from the clef.code sub-module. In particular the **search** function and **connect** and **Session** that we'll use to open a connection to the database."
   ]
  },
  {
   "cell_type": "code",
   "execution_count": 16,
   "metadata": {},
   "outputs": [],
   "source": [
    "from clef.code import *\n",
    "db = connect()\n",
    "s = Session()"
   ]
  },
  {
   "cell_type": "markdown",
   "metadata": {},
   "source": [
    "**search** takes 3 inputs: the db session, the project (i.e. currently 'cmip5' or 'cmip6') and a dictionary containing the query constraints.  \n",
    "Let's start by defining some constraints."
   ]
  },
  {
   "cell_type": "code",
   "execution_count": 17,
   "metadata": {},
   "outputs": [],
   "source": [
    "constraints = {'variable': 'tas', 'model': 'MIROC5', 'cmor_table': 'day', 'experiment': 'rcp85'}"
   ]
  },
  {
   "cell_type": "markdown",
   "metadata": {},
   "source": [
    "The available keys depend on the project you are querying and the attributes stored by the database. You can use any of the *facets* used for ESGF but in future we will be adding other options based on extra fields which are stored as attributes."
   ]
  },
  {
   "cell_type": "code",
   "execution_count": 18,
   "metadata": {},
   "outputs": [
    {
     "data": {
      "text/plain": [
       "[{'filenames': ['tas_day_MIROC5_rcp85_r1i1p1_20100101-20191231.nc',\n",
       "   'tas_day_MIROC5_rcp85_r1i1p1_20900101-20991231.nc',\n",
       "   'tas_day_MIROC5_rcp85_r1i1p1_20300101-20391231.nc',\n",
       "   'tas_day_MIROC5_rcp85_r1i1p1_20400101-20491231.nc',\n",
       "   'tas_day_MIROC5_rcp85_r1i1p1_20500101-20591231.nc',\n",
       "   'tas_day_MIROC5_rcp85_r1i1p1_20800101-20891231.nc',\n",
       "   'tas_day_MIROC5_rcp85_r1i1p1_21000101-21001231.nc',\n",
       "   'tas_day_MIROC5_rcp85_r1i1p1_20060101-20091231.nc',\n",
       "   'tas_day_MIROC5_rcp85_r1i1p1_20600101-20691231.nc',\n",
       "   'tas_day_MIROC5_rcp85_r1i1p1_20700101-20791231.nc',\n",
       "   'tas_day_MIROC5_rcp85_r1i1p1_20200101-20291231.nc'],\n",
       "  'project': 'CMIP5',\n",
       "  'institute': 'MIROC',\n",
       "  'model': 'MIROC5',\n",
       "  'experiment': 'rcp85',\n",
       "  'frequency': 'day',\n",
       "  'realm': 'atmos',\n",
       "  'r': '1',\n",
       "  'i': '1',\n",
       "  'p': '1',\n",
       "  'ensemble': 'r1i1p1',\n",
       "  'cmor_table': 'day',\n",
       "  'version': '20120710',\n",
       "  'variable': 'tas',\n",
       "  'pdir': '/g/data1b/al33/replicas/CMIP5/combined/MIROC/MIROC5/rcp85/day/atmos/day/r1i1p1/v20120710/tas',\n",
       "  'periods': [('20100101', '20191231'),\n",
       "   ('20900101', '20991231'),\n",
       "   ('20300101', '20391231'),\n",
       "   ('20400101', '20491231'),\n",
       "   ('20500101', '20591231'),\n",
       "   ('20800101', '20891231'),\n",
       "   ('21000101', '21001231'),\n",
       "   ('20060101', '20091231'),\n",
       "   ('20600101', '20691231'),\n",
       "   ('20700101', '20791231'),\n",
       "   ('20200101', '20291231')],\n",
       "  'fdate': '20060101',\n",
       "  'tdate': '21001231',\n",
       "  'time_complete': True},\n",
       " {'filenames': ['tas_day_MIROC5_rcp85_r2i1p1_20900101-20991231.nc',\n",
       "   'tas_day_MIROC5_rcp85_r2i1p1_20500101-20591231.nc',\n",
       "   'tas_day_MIROC5_rcp85_r2i1p1_20800101-20891231.nc',\n",
       "   'tas_day_MIROC5_rcp85_r2i1p1_20700101-20791231.nc',\n",
       "   'tas_day_MIROC5_rcp85_r2i1p1_20400101-20491231.nc',\n",
       "   'tas_day_MIROC5_rcp85_r2i1p1_20200101-20291231.nc',\n",
       "   'tas_day_MIROC5_rcp85_r2i1p1_20100101-20191231.nc',\n",
       "   'tas_day_MIROC5_rcp85_r2i1p1_21000101-21001231.nc',\n",
       "   'tas_day_MIROC5_rcp85_r2i1p1_20300101-20391231.nc',\n",
       "   'tas_day_MIROC5_rcp85_r2i1p1_20600101-20691231.nc',\n",
       "   'tas_day_MIROC5_rcp85_r2i1p1_20060101-20091231.nc'],\n",
       "  'project': 'CMIP5',\n",
       "  'institute': 'MIROC',\n",
       "  'model': 'MIROC5',\n",
       "  'experiment': 'rcp85',\n",
       "  'frequency': 'day',\n",
       "  'realm': 'atmos',\n",
       "  'r': '2',\n",
       "  'i': '1',\n",
       "  'p': '1',\n",
       "  'ensemble': 'r2i1p1',\n",
       "  'cmor_table': 'day',\n",
       "  'version': '20120710',\n",
       "  'variable': 'tas',\n",
       "  'pdir': '/g/data1b/al33/replicas/CMIP5/combined/MIROC/MIROC5/rcp85/day/atmos/day/r2i1p1/v20120710/tas',\n",
       "  'periods': [('20900101', '20991231'),\n",
       "   ('20500101', '20591231'),\n",
       "   ('20800101', '20891231'),\n",
       "   ('20700101', '20791231'),\n",
       "   ('20400101', '20491231'),\n",
       "   ('20200101', '20291231'),\n",
       "   ('20100101', '20191231'),\n",
       "   ('21000101', '21001231'),\n",
       "   ('20300101', '20391231'),\n",
       "   ('20600101', '20691231'),\n",
       "   ('20060101', '20091231')],\n",
       "  'fdate': '20060101',\n",
       "  'tdate': '21001231',\n",
       "  'time_complete': True},\n",
       " {'filenames': ['tas_day_MIROC5_rcp85_r3i1p1_20700101-20791231.nc',\n",
       "   'tas_day_MIROC5_rcp85_r3i1p1_20800101-20891231.nc',\n",
       "   'tas_day_MIROC5_rcp85_r3i1p1_20200101-20291231.nc',\n",
       "   'tas_day_MIROC5_rcp85_r3i1p1_20600101-20691231.nc',\n",
       "   'tas_day_MIROC5_rcp85_r3i1p1_20500101-20591231.nc',\n",
       "   'tas_day_MIROC5_rcp85_r3i1p1_20300101-20391231.nc',\n",
       "   'tas_day_MIROC5_rcp85_r3i1p1_20900101-20991231.nc',\n",
       "   'tas_day_MIROC5_rcp85_r3i1p1_20060101-20091231.nc',\n",
       "   'tas_day_MIROC5_rcp85_r3i1p1_20100101-20191231.nc',\n",
       "   'tas_day_MIROC5_rcp85_r3i1p1_20400101-20491231.nc',\n",
       "   'tas_day_MIROC5_rcp85_r3i1p1_21000101-21001231.nc'],\n",
       "  'project': 'CMIP5',\n",
       "  'institute': 'MIROC',\n",
       "  'model': 'MIROC5',\n",
       "  'experiment': 'rcp85',\n",
       "  'frequency': 'day',\n",
       "  'realm': 'atmos',\n",
       "  'r': '3',\n",
       "  'i': '1',\n",
       "  'p': '1',\n",
       "  'ensemble': 'r3i1p1',\n",
       "  'cmor_table': 'day',\n",
       "  'version': '20120710',\n",
       "  'variable': 'tas',\n",
       "  'pdir': '/g/data1b/al33/replicas/CMIP5/combined/MIROC/MIROC5/rcp85/day/atmos/day/r3i1p1/v20120710/tas',\n",
       "  'periods': [('20700101', '20791231'),\n",
       "   ('20800101', '20891231'),\n",
       "   ('20200101', '20291231'),\n",
       "   ('20600101', '20691231'),\n",
       "   ('20500101', '20591231'),\n",
       "   ('20300101', '20391231'),\n",
       "   ('20900101', '20991231'),\n",
       "   ('20060101', '20091231'),\n",
       "   ('20100101', '20191231'),\n",
       "   ('20400101', '20491231'),\n",
       "   ('21000101', '21001231')],\n",
       "  'fdate': '20060101',\n",
       "  'tdate': '21001231',\n",
       "  'time_complete': True},\n",
       " {'filenames': ['tas_day_MIROC5_rcp85_r4i1p1_20200101-20291231.nc',\n",
       "   'tas_day_MIROC5_rcp85_r4i1p1_20100101-20191231.nc',\n",
       "   'tas_day_MIROC5_rcp85_r4i1p1_20060101-20091231.nc',\n",
       "   'tas_day_MIROC5_rcp85_r4i1p1_20300101-20351231.nc'],\n",
       "  'project': 'CMIP5',\n",
       "  'institute': 'MIROC',\n",
       "  'model': 'MIROC5',\n",
       "  'experiment': 'rcp85',\n",
       "  'frequency': 'day',\n",
       "  'realm': 'atmos',\n",
       "  'r': '4',\n",
       "  'i': '1',\n",
       "  'p': '1',\n",
       "  'ensemble': 'r4i1p1',\n",
       "  'cmor_table': 'day',\n",
       "  'version': '20131009',\n",
       "  'variable': 'tas',\n",
       "  'pdir': '/g/data1b/al33/replicas/CMIP5/combined/MIROC/MIROC5/rcp85/day/atmos/day/r4i1p1/v20131009/tas',\n",
       "  'periods': [('20200101', '20291231'),\n",
       "   ('20100101', '20191231'),\n",
       "   ('20060101', '20091231'),\n",
       "   ('20300101', '20351231')],\n",
       "  'fdate': '20060101',\n",
       "  'tdate': '20351231',\n",
       "  'time_complete': True},\n",
       " {'filenames': ['tas_day_MIROC5_rcp85_r5i1p1_20060101-20091231.nc',\n",
       "   'tas_day_MIROC5_rcp85_r5i1p1_20100101-20191231.nc',\n",
       "   'tas_day_MIROC5_rcp85_r5i1p1_20300101-20351231.nc',\n",
       "   'tas_day_MIROC5_rcp85_r5i1p1_20200101-20291231.nc'],\n",
       "  'project': 'CMIP5',\n",
       "  'institute': 'MIROC',\n",
       "  'model': 'MIROC5',\n",
       "  'experiment': 'rcp85',\n",
       "  'frequency': 'day',\n",
       "  'realm': 'atmos',\n",
       "  'r': '5',\n",
       "  'i': '1',\n",
       "  'p': '1',\n",
       "  'ensemble': 'r5i1p1',\n",
       "  'cmor_table': 'day',\n",
       "  'version': '20131009',\n",
       "  'variable': 'tas',\n",
       "  'pdir': '/g/data1b/al33/replicas/CMIP5/combined/MIROC/MIROC5/rcp85/day/atmos/day/r5i1p1/v20131009/tas',\n",
       "  'periods': [('20060101', '20091231'),\n",
       "   ('20100101', '20191231'),\n",
       "   ('20300101', '20351231'),\n",
       "   ('20200101', '20291231')],\n",
       "  'fdate': '20060101',\n",
       "  'tdate': '20351231',\n",
       "  'time_complete': True}]"
      ]
     },
     "execution_count": 18,
     "metadata": {},
     "output_type": "execute_result"
    }
   ],
   "source": [
    "results = search(s, project='cmip5', **constraints)\n",
    "results"
   ]
  },
  {
   "cell_type": "markdown",
   "metadata": {},
   "source": [
    "Both the keys and values of the constraints get checked before being passed to the query function. This means that if you passed a key or a value that doesn't exist for the chosen project, the function will print a list of valid values and then exit.<br>\n",
    "Let's re-write the constraints dictionary to show an example."
   ]
  },
  {
   "cell_type": "code",
   "execution_count": 19,
   "metadata": {
    "scrolled": true
   },
   "outputs": [
    {
     "name": "stdout",
     "output_type": "stream",
     "text": [
      "Warning activity is not a valid constraint name\n",
      "Valid constraints are:\n",
      "dict_values([['source_id', 'model', 'm'], ['realm'], ['time_frequency', 'frequency', 'f'], ['variable_id', 'variable', 'v'], ['experiment_id', 'experiment', 'e'], ['table_id', 'table', 'cmor_table', 't'], ['member_id', 'member', 'ensemble', 'en', 'mi'], ['institution_id', 'institution', 'institute'], ['experiment_family']])\n"
     ]
    },
    {
     "ename": "SystemExit",
     "evalue": "",
     "output_type": "error",
     "traceback": [
      "An exception has occurred, use %tb to see the full traceback.\n",
      "\u001b[0;31mSystemExit\u001b[0m\n"
     ]
    },
    {
     "name": "stderr",
     "output_type": "stream",
     "text": [
      "/g/data3/hh5/public/apps/miniconda3/envs/analysis3-19.04/lib/python3.6/site-packages/IPython/core/interactiveshell.py:3304: UserWarning: To exit: use 'exit', 'quit', or Ctrl-D.\n",
      "  warn(\"To exit: use 'exit', 'quit', or Ctrl-D.\", stacklevel=1)\n"
     ]
    }
   ],
   "source": [
    "constraints = {'v': 'tas', 'm': 'MIROC5', 'table': 'day', 'experiment': 'rcp85', 'activity': 'CMIP'}\n",
    "results = search(s, project='cmip5', **constraints)"
   ]
  },
  {
   "cell_type": "markdown",
   "metadata": {},
   "source": [
    "You can see that the function told us 'activity' is not a valid constraints for CMIP5, in fact that can be used only with CMIP6<br>\n",
    "NB. that the search accepted all the other abbreviations, there's a few terms that can be used for each key.<br>\n",
    "The full list of valid keys is available from from the github repository:<br>\n",
    "https://github.com/coecms/clef/blob/master/clef/data/valid_keys.json"
   ]
  },
  {
   "cell_type": "code",
   "execution_count": 23,
   "metadata": {},
   "outputs": [],
   "source": [
    "constraints = {'v': 'tas', 'm': 'MIROC5', 'table': 'day', 'experiment': 'rcp85', 'member': 'r1i1p1'}\n",
    "results = search(s, project='cmip5', **constraints)"
   ]
  },
  {
   "cell_type": "code",
   "execution_count": 24,
   "metadata": {},
   "outputs": [
    {
     "data": {
      "text/plain": [
       "[{'filenames': ['tas_day_MIROC5_rcp85_r1i1p1_20100101-20191231.nc',\n",
       "   'tas_day_MIROC5_rcp85_r1i1p1_20900101-20991231.nc',\n",
       "   'tas_day_MIROC5_rcp85_r1i1p1_20300101-20391231.nc',\n",
       "   'tas_day_MIROC5_rcp85_r1i1p1_20400101-20491231.nc',\n",
       "   'tas_day_MIROC5_rcp85_r1i1p1_20500101-20591231.nc',\n",
       "   'tas_day_MIROC5_rcp85_r1i1p1_20800101-20891231.nc',\n",
       "   'tas_day_MIROC5_rcp85_r1i1p1_21000101-21001231.nc',\n",
       "   'tas_day_MIROC5_rcp85_r1i1p1_20060101-20091231.nc',\n",
       "   'tas_day_MIROC5_rcp85_r1i1p1_20600101-20691231.nc',\n",
       "   'tas_day_MIROC5_rcp85_r1i1p1_20700101-20791231.nc',\n",
       "   'tas_day_MIROC5_rcp85_r1i1p1_20200101-20291231.nc'],\n",
       "  'project': 'CMIP5',\n",
       "  'institute': 'MIROC',\n",
       "  'model': 'MIROC5',\n",
       "  'experiment': 'rcp85',\n",
       "  'frequency': 'day',\n",
       "  'realm': 'atmos',\n",
       "  'r': '1',\n",
       "  'i': '1',\n",
       "  'p': '1',\n",
       "  'ensemble': 'r1i1p1',\n",
       "  'cmor_table': 'day',\n",
       "  'version': '20120710',\n",
       "  'variable': 'tas',\n",
       "  'pdir': '/g/data1b/al33/replicas/CMIP5/combined/MIROC/MIROC5/rcp85/day/atmos/day/r1i1p1/v20120710/tas',\n",
       "  'periods': [('20100101', '20191231'),\n",
       "   ('20900101', '20991231'),\n",
       "   ('20300101', '20391231'),\n",
       "   ('20400101', '20491231'),\n",
       "   ('20500101', '20591231'),\n",
       "   ('20800101', '20891231'),\n",
       "   ('21000101', '21001231'),\n",
       "   ('20060101', '20091231'),\n",
       "   ('20600101', '20691231'),\n",
       "   ('20700101', '20791231'),\n",
       "   ('20200101', '20291231')],\n",
       "  'fdate': '20060101',\n",
       "  'tdate': '21001231',\n",
       "  'time_complete': True}]"
      ]
     },
     "execution_count": 24,
     "metadata": {},
     "output_type": "execute_result"
    }
   ],
   "source": [
    "results"
   ]
  }
 ],
 "metadata": {
  "kernelspec": {
   "display_name": "Python [conda env:analysis3-18.07]",
   "language": "python",
   "name": "conda-env-analysis3-18.07-py"
  },
  "language_info": {
   "codemirror_mode": {
    "name": "ipython",
    "version": 3
   },
   "file_extension": ".py",
   "mimetype": "text/x-python",
   "name": "python",
   "nbconvert_exporter": "python",
   "pygments_lexer": "ipython3",
   "version": "3.6.6"
  }
 },
 "nbformat": 4,
 "nbformat_minor": 2
}
