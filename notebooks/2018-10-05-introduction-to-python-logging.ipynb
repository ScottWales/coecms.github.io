{
 "cells": [
  {
   "cell_type": "markdown",
   "metadata": {},
   "source": [
    "**Basic usage of python logging module**\n",
    "=="
   ]
  },
  {
   "cell_type": "markdown",
   "metadata": {},
   "source": [
    "Most people use *print* statements to debug their code, uncommenting them when they need them and commenting them again when they have finished.  \n",
    "Python has some proper debugging modules like *pdb* or you might be using an IDE with debug functionality like *pycharm* .  \n",
    "Look here for a list: https://wiki.python.org/moin/PythonDebuggingTools ).   \n",
    "While these tools are certainly good, in this blog I will show you how to use the **logging** module. This module used in a basic mode is as easy as printing statements but will give you a lot more control on your code and to also add eventually more advanced features.  \n",
    "As well as demostrating some simple usage of *logging* I will touch also on other simple but useful debugging tools: the functions type() and dir() and the try/except control flow.\n",
    "\n",
    "*logging* is part of the python distribution so you do not need to install or load anything else, simply import the module.  \n",
    "NB I am using python3.6 there might be difference if you are using a different version."
   ]
  },
  {
   "cell_type": "code",
   "execution_count": 1,
   "metadata": {},
   "outputs": [],
   "source": [
    "import logging"
   ]
  },
  {
   "cell_type": "markdown",
   "metadata": {},
   "source": [
    "Now we are ready to start! "
   ]
  },
  {
   "cell_type": "markdown",
   "metadata": {},
   "source": [
    "**Printing out messages and logging levels**\n",
    "--"
   ]
  },
  {
   "cell_type": "code",
   "execution_count": 2,
   "metadata": {},
   "outputs": [
    {
     "name": "stderr",
     "output_type": "stream",
     "text": [
      "WARNING:root:This is a warning message this should be printed on your console\n"
     ]
    }
   ],
   "source": [
    "logging.warning('This is a warning message this should be printed on your console')\n",
    "logging.info('This is an info message the code will not print this unless you change its operating level')"
   ]
  },
  {
   "cell_type": "markdown",
   "metadata": {},
   "source": [
    "All we have to do is to call one of the logging printing method, we used *warning* and *info*.  \n",
    "Let's have a look at the message we printed.  \n",
    "The first part indicates the logging level, in this case *WARNING*.  \n",
    "The second part *root* is telling us that we are using the *root logger* i.e. the default logger, in fact we haven't set up anything up to now, but just started using logging. \n",
    "Finally there is the message.  \n",
    "The *logging.info* command didn't produce any output. Logging has 5 different levels. From the lowest:  \n",
    " * DEBUG\n",
    " * INFO\n",
    " * WARNING\n",
    " * ERROR\n",
    " * CRITICAL  \n",
    "Logging will only show the messages which are of level >= of the set level, the default level is *warning* so our *info* message is not getting printed.  \n",
    "Let's change the level."
   ]
  },
  {
   "cell_type": "code",
   "execution_count": 3,
   "metadata": {},
   "outputs": [
    {
     "name": "stderr",
     "output_type": "stream",
     "text": [
      "WARNING:root:This is a warning message this should be printed on your console, its level is above the set level\n"
     ]
    }
   ],
   "source": [
    "logging.basicConfig(level=logging.INFO)\n",
    "logging.warning('This is a warning message this should be printed on your console, its level is above the set level')\n",
    "logging.info('This is an info message it should be printed now!')\n",
    "logging.debug('This is a debug message which will not be shown, its level is below the set level')"
   ]
  },
  {
   "cell_type": "markdown",
   "metadata": {},
   "source": [
    "Oops nothing happened, the level is still set to *warning*. Let's pretend we researched this, there could various situations when this happens the answer in short is:  *This function does nothing if the root logger has already handlers configured*.  <br>\n",
    "In my brief experience this is mostly the case. The root logger is set up so you can get logging to work straight on as we did. *Loggers* are the logging object we are dealing with like any other python variable they have some attributes and some methods. So when we use *logging.info* for example we are calling the method info of our root logger. A logging *handler* takes a log message and send it to an output, this could the console (default) or a file, an e-mail or more complex outputs.  <br>\n",
    "This might seems complicated but now that we know there is already a logger defined we know how to deal with it. <br> \n",
    "We can use two approaches:\n",
    "* disable the root logger handlers and start afresh\n",
    "* create our own logger <br>\n",
    "Let's start with the first and then we'll see how to set your own logger."
   ]
  },
  {
   "cell_type": "code",
   "execution_count": 4,
   "metadata": {},
   "outputs": [
    {
     "name": "stderr",
     "output_type": "stream",
     "text": [
      "WARNING:root:This is a warning message this should be printed on your console, its level is above the set level\n",
      "INFO:root:This is an info message it should be printed now!\n"
     ]
    }
   ],
   "source": [
    "# Remove all handlers associated with the root logger object.\n",
    "for handler in logging.root.handlers[:]:\n",
    "    logging.root.removeHandler(handler)\n",
    "logging.basicConfig(level=logging.INFO)\n",
    "logging.warning('This is a warning message this should be printed on your console, its level is above the set level')\n",
    "logging.info('This is an info message it should be printed now!')\n",
    "logging.debug('This is a debug message which will not be shown, its level is below the set level')"
   ]
  },
  {
   "cell_type": "markdown",
   "metadata": {},
   "source": [
    "**Setting up a logger**\n",
    "--"
   ]
  },
  {
   "cell_type": "code",
   "execution_count": 5,
   "metadata": {},
   "outputs": [
    {
     "name": "stderr",
     "output_type": "stream",
     "text": [
      "WARNING:root:This is a warning message this should be printed on your console, its level is above the set level\n",
      "INFO:root:This is an info message it should be printed now!\n"
     ]
    }
   ],
   "source": [
    "#import logging\n",
    "#for handler in logging.root.handlers[:]:\n",
    "#    logging.root.removeHandler(handler)\n",
    "#logging.basicConfig(level=logging.INFO)\n",
    "logger = logging.getLogger()\n",
    "logger.setLevel(logging.INFO)\n",
    "logger.warning('This is a warning message this should be printed on your console, its level is above the set level')\n",
    "logger.info('This is an info message it should be printed now!')\n",
    "logger.debug('This is a debug message which will not be shown, its level is below the set level')"
   ]
  },
  {
   "cell_type": "markdown",
   "metadata": {},
   "source": [
    "We retrieved the logger and save it to a variable using **getLogger()**.  \n",
    "Then we use **setLevel()** to change the level to INFO and the messages are showing as expected.  \n",
    "If we want to run the code in debug mode we can now change only the logging level instead of commenting/uncommenting print statements.  \n",
    "This is a good start but let's see how we can actually print out something a bit more useful.  \n",
    "Personally when I'm trying to debug something there are 3 things which I usually print: the variable value, its type and the methods and attributes. Remember then in python any variable is an object and can have more or less complex methods (functions) and attributes. \n"
   ]
  },
  {
   "cell_type": "code",
   "execution_count": 6,
   "metadata": {},
   "outputs": [
    {
     "name": "stderr",
     "output_type": "stream",
     "text": [
      "WARNING:root:This script is totally useless\n",
      "INFO:root:Starting complex calculation\n",
      "INFO:root:Calculation completed, result is 1\n"
     ]
    }
   ],
   "source": [
    "logger.warning('This script is totally useless')\n",
    "var1 = 1\n",
    "var2 = 0\n",
    "logger.debug('Input values are %d %d', var1, var2)\n",
    "logger.info('Starting complex calculation')\n",
    "result = var1 + var2\n",
    "logger.info('Calculation completed, result is %d', result)"
   ]
  },
  {
   "cell_type": "markdown",
   "metadata": {},
   "source": [
    "This looks more like a script, first of all we are starting using the levels as appropriate.  \n",
    "INFO is used to define the steps our script is going through and show us the result of our calculation.   \n",
    "WARNING is telling the user something which is potentially an issue but not an error.  \n",
    "DEBUG is ready to show us the values and of the variables we used, should something go wrong.  \n",
    "Please note that I am using %d as a number placeholder.  \n",
    "Let's now generate an error.\n"
   ]
  },
  {
   "cell_type": "code",
   "execution_count": 7,
   "metadata": {},
   "outputs": [
    {
     "name": "stderr",
     "output_type": "stream",
     "text": [
      "WARNING:root:This script is totally useless\n",
      "INFO:root:Starting complex calculation\n"
     ]
    },
    {
     "ename": "TypeError",
     "evalue": "unsupported operand type(s) for +: 'int' and 'str'",
     "output_type": "error",
     "traceback": [
      "\u001b[0;31m---------------------------------------------------------------------------\u001b[0m",
      "\u001b[0;31mTypeError\u001b[0m                                 Traceback (most recent call last)",
      "\u001b[0;32m<ipython-input-7-6455a6502345>\u001b[0m in \u001b[0;36m<module>\u001b[0;34m()\u001b[0m\n\u001b[1;32m      4\u001b[0m \u001b[0mlogger\u001b[0m\u001b[0;34m.\u001b[0m\u001b[0mdebug\u001b[0m\u001b[0;34m(\u001b[0m\u001b[0;34m'Input values are %d %d'\u001b[0m\u001b[0;34m,\u001b[0m \u001b[0mvar1\u001b[0m\u001b[0;34m,\u001b[0m \u001b[0mvar2\u001b[0m\u001b[0;34m)\u001b[0m\u001b[0;34m\u001b[0m\u001b[0m\n\u001b[1;32m      5\u001b[0m \u001b[0mlogger\u001b[0m\u001b[0;34m.\u001b[0m\u001b[0minfo\u001b[0m\u001b[0;34m(\u001b[0m\u001b[0;34m'Starting complex calculation'\u001b[0m\u001b[0;34m)\u001b[0m\u001b[0;34m\u001b[0m\u001b[0m\n\u001b[0;32m----> 6\u001b[0;31m \u001b[0mresult\u001b[0m \u001b[0;34m=\u001b[0m \u001b[0mvar1\u001b[0m \u001b[0;34m+\u001b[0m \u001b[0mvar2\u001b[0m\u001b[0;34m\u001b[0m\u001b[0m\n\u001b[0m\u001b[1;32m      7\u001b[0m \u001b[0mlogger\u001b[0m\u001b[0;34m.\u001b[0m\u001b[0minfo\u001b[0m\u001b[0;34m(\u001b[0m\u001b[0;34m'Calculation completed, result is %d'\u001b[0m\u001b[0;34m,\u001b[0m \u001b[0mresult\u001b[0m\u001b[0;34m)\u001b[0m\u001b[0;34m\u001b[0m\u001b[0m\n",
      "\u001b[0;31mTypeError\u001b[0m: unsupported operand type(s) for +: 'int' and 'str'"
     ]
    }
   ],
   "source": [
    "logger.warning('This script is totally useless')\n",
    "var1 = 1\n",
    "var2 = '0'\n",
    "logger.debug('Input values are %d %d', var1, var2)\n",
    "logger.info('Starting complex calculation')\n",
    "result = var1 + var2\n",
    "logger.info('Calculation completed, result is %d', result)"
   ]
  },
  {
   "cell_type": "markdown",
   "metadata": {},
   "source": [
    "Instead of 0 we passed the equivalent string so we get an error. Let's switch to *debug* level.\n",
    "\n"
   ]
  },
  {
   "cell_type": "code",
   "execution_count": 8,
   "metadata": {},
   "outputs": [
    {
     "name": "stderr",
     "output_type": "stream",
     "text": [
      "WARNING:root:This script is totally useless\n",
      "Traceback (most recent call last):\n",
      "  File \"/g/data3/hh5/public/apps/miniconda3/envs/analysis27-18.07/lib/python2.7/logging/__init__.py\", line 868, in emit\n",
      "    msg = self.format(record)\n",
      "  File \"/g/data3/hh5/public/apps/miniconda3/envs/analysis27-18.07/lib/python2.7/logging/__init__.py\", line 741, in format\n",
      "    return fmt.format(record)\n",
      "  File \"/g/data3/hh5/public/apps/miniconda3/envs/analysis27-18.07/lib/python2.7/logging/__init__.py\", line 465, in format\n",
      "    record.message = record.getMessage()\n",
      "  File \"/g/data3/hh5/public/apps/miniconda3/envs/analysis27-18.07/lib/python2.7/logging/__init__.py\", line 329, in getMessage\n",
      "    msg = msg % self.args\n",
      "TypeError: %d format: a number is required, not str\n",
      "Logged from file <ipython-input-8-19596707b9a2>, line 6\n",
      "INFO:root:Starting complex calculation\n"
     ]
    },
    {
     "ename": "TypeError",
     "evalue": "unsupported operand type(s) for +: 'int' and 'str'",
     "output_type": "error",
     "traceback": [
      "\u001b[0;31m---------------------------------------------------------------------------\u001b[0m",
      "\u001b[0;31mTypeError\u001b[0m                                 Traceback (most recent call last)",
      "\u001b[0;32m<ipython-input-8-19596707b9a2>\u001b[0m in \u001b[0;36m<module>\u001b[0;34m()\u001b[0m\n\u001b[1;32m      6\u001b[0m \u001b[0mlogger\u001b[0m\u001b[0;34m.\u001b[0m\u001b[0mdebug\u001b[0m\u001b[0;34m(\u001b[0m\u001b[0;34m'Input values are %d %d'\u001b[0m\u001b[0;34m,\u001b[0m \u001b[0mvar1\u001b[0m\u001b[0;34m,\u001b[0m \u001b[0mvar2\u001b[0m\u001b[0;34m)\u001b[0m\u001b[0;34m\u001b[0m\u001b[0m\n\u001b[1;32m      7\u001b[0m \u001b[0mlogger\u001b[0m\u001b[0;34m.\u001b[0m\u001b[0minfo\u001b[0m\u001b[0;34m(\u001b[0m\u001b[0;34m'Starting complex calculation'\u001b[0m\u001b[0;34m)\u001b[0m\u001b[0;34m\u001b[0m\u001b[0m\n\u001b[0;32m----> 8\u001b[0;31m \u001b[0mresult\u001b[0m \u001b[0;34m=\u001b[0m \u001b[0mvar1\u001b[0m \u001b[0;34m+\u001b[0m \u001b[0mvar2\u001b[0m\u001b[0;34m\u001b[0m\u001b[0m\n\u001b[0m\u001b[1;32m      9\u001b[0m \u001b[0mlogger\u001b[0m\u001b[0;34m.\u001b[0m\u001b[0minfo\u001b[0m\u001b[0;34m(\u001b[0m\u001b[0;34m'Calculation completed, result is %d'\u001b[0m\u001b[0;34m,\u001b[0m \u001b[0mresult\u001b[0m\u001b[0;34m)\u001b[0m\u001b[0;34m\u001b[0m\u001b[0m\n",
      "\u001b[0;31mTypeError\u001b[0m: unsupported operand type(s) for +: 'int' and 'str'"
     ]
    }
   ],
   "source": [
    "logger.setLevel(logging.DEBUG)\n",
    "logger.warning('This script is totally useless')\n",
    "var1 = 1\n",
    "var2 = '0'\n",
    "logger.debug('Input values are %d %d', var1, var2)\n",
    "logger.info('Starting complex calculation')\n",
    "result = var1 + var2\n",
    "logger.info('Calculation completed, result is %d', result)"
   ]
  },
  {
   "cell_type": "markdown",
   "metadata": {},
   "source": [
    "Funnily enough now we have two separate error messages:  \n",
    "* The debug statement uses %d as place holder which fails when passed a string, we can use %s instead which is a string place holder and works with basically everything. You will notice that this error didn't stop the code from going on.\n",
    "* The second error message tells us we have a type error, we can improve our debug message to catch this better.\n",
    "\n"
   ]
  },
  {
   "cell_type": "code",
   "execution_count": 9,
   "metadata": {},
   "outputs": [
    {
     "name": "stderr",
     "output_type": "stream",
     "text": [
      "WARNING:root:This script is totally useless\n",
      "DEBUG:root:Input values are 1 0, their respective types are <type 'int'> and <type 'str'>\n",
      "INFO:root:Starting complex calculation\n"
     ]
    },
    {
     "ename": "TypeError",
     "evalue": "unsupported operand type(s) for +: 'int' and 'str'",
     "output_type": "error",
     "traceback": [
      "\u001b[0;31m---------------------------------------------------------------------------\u001b[0m",
      "\u001b[0;31mTypeError\u001b[0m                                 Traceback (most recent call last)",
      "\u001b[0;32m<ipython-input-9-21ff22721b76>\u001b[0m in \u001b[0;36m<module>\u001b[0;34m()\u001b[0m\n\u001b[1;32m      4\u001b[0m \u001b[0mlogger\u001b[0m\u001b[0;34m.\u001b[0m\u001b[0mdebug\u001b[0m\u001b[0;34m(\u001b[0m\u001b[0;34m'Input values are %s %s, their respective types are %s and %s'\u001b[0m\u001b[0;34m,\u001b[0m \u001b[0mvar1\u001b[0m\u001b[0;34m,\u001b[0m \u001b[0mvar2\u001b[0m\u001b[0;34m,\u001b[0m \u001b[0mtype\u001b[0m\u001b[0;34m(\u001b[0m\u001b[0mvar1\u001b[0m\u001b[0;34m)\u001b[0m\u001b[0;34m,\u001b[0m \u001b[0mtype\u001b[0m\u001b[0;34m(\u001b[0m\u001b[0mvar2\u001b[0m\u001b[0;34m)\u001b[0m\u001b[0;34m)\u001b[0m\u001b[0;34m\u001b[0m\u001b[0m\n\u001b[1;32m      5\u001b[0m \u001b[0mlogger\u001b[0m\u001b[0;34m.\u001b[0m\u001b[0minfo\u001b[0m\u001b[0;34m(\u001b[0m\u001b[0;34m'Starting complex calculation'\u001b[0m\u001b[0;34m)\u001b[0m\u001b[0;34m\u001b[0m\u001b[0m\n\u001b[0;32m----> 6\u001b[0;31m \u001b[0mresult\u001b[0m \u001b[0;34m=\u001b[0m \u001b[0mvar1\u001b[0m \u001b[0;34m+\u001b[0m \u001b[0mvar2\u001b[0m\u001b[0;34m\u001b[0m\u001b[0m\n\u001b[0m\u001b[1;32m      7\u001b[0m \u001b[0mlogger\u001b[0m\u001b[0;34m.\u001b[0m\u001b[0minfo\u001b[0m\u001b[0;34m(\u001b[0m\u001b[0;34m'Calculation completed, result is %s'\u001b[0m\u001b[0;34m,\u001b[0m \u001b[0mresult\u001b[0m\u001b[0;34m)\u001b[0m\u001b[0;34m\u001b[0m\u001b[0m\n",
      "\u001b[0;31mTypeError\u001b[0m: unsupported operand type(s) for +: 'int' and 'str'"
     ]
    }
   ],
   "source": [
    "logger.warning('This script is totally useless')\n",
    "var1 = 1\n",
    "var2 = '0'\n",
    "logger.debug('Input values are %s %s, their respective types are %s and %s', var1, var2, type(var1), type(var2))\n",
    "logger.info('Starting complex calculation')\n",
    "result = var1 + var2\n",
    "logger.info('Calculation completed, result is %s', result)"
   ]
  },
  {
   "cell_type": "markdown",
   "metadata": {},
   "source": [
    "This is better, let's use now the *ERROR* level too, we can safely ignore CRITICAL that's reserved for an error which can have catastrophic consequences and it's probably not useful to us.  \n",
    "Now that we know the code might pass a number as a string we want to be ready and handle this potential error. \n",
    "A useful way to do this is to use the **try: except:** statements.  \n",
    "Let's get back to a lower level of logging and run the script again.\n"
   ]
  },
  {
   "cell_type": "code",
   "execution_count": 10,
   "metadata": {},
   "outputs": [
    {
     "name": "stderr",
     "output_type": "stream",
     "text": [
      "WARNING:root:This script is totally useless\n",
      "INFO:root:Starting complex calculation\n",
      "ERROR:root:There is an issue adding 1 and 0\n",
      "WARNING:root:I am still going on!\n",
      "INFO:root:Calculation completed, result is 1\n"
     ]
    }
   ],
   "source": [
    "logger.setLevel(logging.INFO)\n",
    "logger.warning('This script is totally useless')\n",
    "var1 = 1\n",
    "var2 = '0'\n",
    "logger.debug('Input values are %s %s, their respective types are %s and %s', var1, var2, type(var1), type(var2))\n",
    "logger.info('Starting complex calculation')\n",
    "try:\n",
    "    result = var1 + var2\n",
    "except: \n",
    "    logger.error('There is an issue adding %s and %s', var1, var2)\n",
    "logger.warning('I am still going on!')\n",
    "# Last statement still print fine because we haven't deleted result\n",
    "logger.info('Calculation completed, result is %s', result)"
   ]
  },
  {
   "cell_type": "markdown",
   "metadata": {},
   "source": [
    "We tried to do 1 + '0' which failed so the code moved on executing the *except* statement rather then stopping and throwing out an error.  \n",
    "While often we want our code to stop when failing, there are situation if which we can remedy the error and *try/except* can help us handling it and then go on with it. For example if you want to open a file and you are not sure if exists already you could **try** to open file, if that fails you can use **except** to create the file.  \n",
    "The other common case is to simply use try/except as we did to print control what error message gets printed out and then exiting the code by adding sys.exit() at the end or going on depending on how critical the error is.  \n",
    "Note that because we are using try/except we cannot see the standard error message anymore, since this could be useful let's see how we can get both.  "
   ]
  },
  {
   "cell_type": "code",
   "execution_count": 11,
   "metadata": {},
   "outputs": [
    {
     "name": "stderr",
     "output_type": "stream",
     "text": [
      "WARNING:root:This script is totally useless\n",
      "INFO:root:Starting complex calculation\n",
      "ERROR:root:There some issue with adding 1 and 0\n",
      "Traceback (most recent call last):\n",
      "  File \"<ipython-input-11-27836643b46d>\", line 7, in <module>\n",
      "    result = var1 + var2\n",
      "TypeError: unsupported operand type(s) for +: 'int' and 'str'\n",
      "ERROR:root:There is some issue adding 1 and 0\n",
      "Traceback (most recent call last):\n",
      "  File \"<ipython-input-11-27836643b46d>\", line 7, in <module>\n",
      "    result = var1 + var2\n",
      "TypeError: unsupported operand type(s) for +: 'int' and 'str'\n",
      "WARNING:root:I am still going on!\n",
      "INFO:root:Calculation completed, result is 1\n"
     ]
    }
   ],
   "source": [
    "logger.warning('This script is totally useless')\n",
    "var1 = 1\n",
    "var2 = '0'\n",
    "logger.debug('Input values are %s %s, their respective types are %s and %s', var1, var2, type(var1), type(var2))\n",
    "logger.info('Starting complex calculation')\n",
    "try:\n",
    "    result = var1 + var2\n",
    "except: \n",
    "    logger.error('There some issue with adding %s and %s', var1, var2, exc_info=True)\n",
    "    logger.exception('There is some issue adding %s and %s', var1, var2)\n",
    "logger.warning('I am still going on!')\n",
    "logger.info('Calculation completed, result is %d', result)"
   ]
  },
  {
   "cell_type": "markdown",
   "metadata": {},
   "source": [
    "By adding *exc_info=True* to the logging.error we can get also the traceback error again. Please note that you can achieve exactly the same using *logging.exception*.  \n",
    "\n",
    "This is a fairly straightforward error, sometimes when you have variables going from one function to another and using modules you are not familiar with, you might end up with misterious object that don't work as you expect or of simply yoy might want to udnerstand better the properties. This is where the function dir() comes handy.  \n",
    "Let's look at a simple example."
   ]
  },
  {
   "cell_type": "code",
   "execution_count": 12,
   "metadata": {},
   "outputs": [
    {
     "name": "stdout",
     "output_type": "stream",
     "text": [
      "['itervalues', 'keys', 'pop', 'popitem', 'setdefault']\n",
      "('pop is %s', <type 'builtin_function_or_method'>)\n",
      "('items is %s', <type 'builtin_function_or_method'>)\n"
     ]
    }
   ],
   "source": [
    "a = {'key1': 1, 'key2': 2}\n",
    "dir(a)\n",
    "print( dir(a)[-10:-5])\n",
    "print('pop is %s', type(a.pop))\n",
    "print('items is %s', type(a.keys))  \n",
    "# There's a new way to print formatted string introduced in python3.6, which accept any expression in {} embedded in the string\n",
    "# it evaluates the expression before printing.\n",
    "# It doesn't work yet in notebooks, but it will if you run directly with python.\n",
    "# print(f\"pop is {type(a.pop)}\")\n",
    "# print(f\"the sum of {var1} and {var2} is {var1 + var2}\")"
   ]
  },
  {
   "cell_type": "markdown",
   "metadata": {},
   "source": [
    "I have defined a dictionary and used dir() to list all its properties, some are attributes and some are methods, I can find that by using type(). Please note dir() returns a list and I've printing only a subset to avoid a long list. \n",
    "In fact lots of the debugging information might be better sent to a file, this will allows us to keep a record we can check later and to separate it from the usual print statements, or better, INFO and WARNING level statements. Will have a look at how to do this in the second part.\n",
    "\n"
   ]
  },
  {
   "cell_type": "markdown",
   "metadata": {},
   "source": [
    "**Sending messages to different ouputs**\n",
    "--"
   ]
  },
  {
   "cell_type": "markdown",
   "metadata": {},
   "source": [
    "Remember the logger and the handlers at the start of the blog? We will have a quick look at how to use them to send different levels of messages to different output channels.  \n",
    "\n",
    "To start with a clean slate and change logging level more easily I will rewrite my code as a function that takes the logging level as input.\n",
    "\n"
   ]
  },
  {
   "cell_type": "code",
   "execution_count": null,
   "metadata": {},
   "outputs": [],
   "source": [
    "%%script python3\n",
    "# I am showing here the content of the python file I will be running\n",
    "# I am runnig the code in this way to avoid to end up with lots of loggers or having console issues with jupyter.\n",
    "\n",
    "import logging\n",
    "\n",
    "def log_demo(level):\n",
    "    # define a logger\n",
    "    logger = logging.getLogger('mylogger')\n",
    "    # set the level passed as input, has to be logging.LEVEL\n",
    "    logger.setLevel(level)\n",
    "    # add one message using the root logger to check that we can switch levels correctly!\n",
    "    # we won't need this later\n",
    "    logging.info('This function is a logging demo')\n",
    "    \n",
    "    # add a handler to send INFO level messages to console\n",
    "    # add a handler to send DEBUG level messages to file\n",
    "\n",
    "log_demo(logging.INFO)\n",
    "print('a bit of space in between')\n",
    "print(' ... ')\n",
    "log_demo(logging.WARNING)\n",
    "print('Finished!')"
   ]
  },
  {
   "cell_type": "code",
   "execution_count": 15,
   "metadata": {},
   "outputs": [
    {
     "name": "stdout",
     "output_type": "stream",
     "text": [
      "INFO:root:This function is a logging demo\n",
      "a bit of space in between\n",
      " ... \n",
      "Finished!\n"
     ]
    }
   ],
   "source": [
    "!python demo1.py > out.txt\n",
    "!cat out.txt"
   ]
  },
  {
   "cell_type": "markdown",
   "metadata": {},
   "source": [
    "It is behaving as expected, now let's add a handler, since we are already getting messages on the console let's start from the file handler.\n",
    "\n"
   ]
  },
  {
   "cell_type": "code",
   "execution_count": 16,
   "metadata": {},
   "outputs": [
    {
     "name": "stderr",
     "output_type": "stream",
     "text": [
      "INFO:mylogger:Code ends here!\n"
     ]
    }
   ],
   "source": [
    "%%script python3\n",
    "# I am using this to run this as a separate script so I don't end up with lots of loggers!!\n",
    "\n",
    "import logging\n",
    "\n",
    "def log_demo(level):\n",
    "    # start a logger\n",
    "    logger = logging.getLogger('mylogger')\n",
    "    # set the level passed as input, has to be logging.LEVEL\n",
    "    logger.setLevel(level)\n",
    "    # set a formatter to manage the output format of our handlers\n",
    "    formatter = logging.Formatter('%(asctime)s | %(name)s |  %(levelname)s: %(message)s')\n",
    "    \n",
    "    # add a handler to send INFO level messages to console\n",
    "    \n",
    "    # add a handler to send DEBUG level messages to file    \n",
    "    file_handler = logging.FileHandler('mycode_debug.log','w') \n",
    "    file_handler.setLevel(logging.DEBUG)\n",
    "    file_handler.setFormatter(formatter)\n",
    "    logger.addHandler(file_handler)\n",
    "    \n",
    "    # add some debug messages\n",
    "    var1 = 1\n",
    "    var2 = '0'\n",
    "    logger.debug('Input values are %s %s, their respective types are %s and %s', var1, var2, type(var1), type(var2))\n",
    "    logger.info('Code ends here!')\n",
    "log_demo(logging.INFO)"
   ]
  },
  {
   "cell_type": "markdown",
   "metadata": {},
   "source": [
    "We define the file_handler simply by giving it a filename, there are other options we could set at the same time, but that's the only one we need. <br>\n",
    "We set the level to DEBUG and add a *formatter* to add before the message:<br>\n",
    "   time | logger_name | log level <br>\n",
    "Finally we add it to the logger and add a debug message to test it. <br>\n",
    "Let's call the function again using INFO as input level."
   ]
  },
  {
   "cell_type": "code",
   "execution_count": 17,
   "metadata": {},
   "outputs": [
    {
     "name": "stdout",
     "output_type": "stream",
     "text": [
      "2018-10-04 08:44:30,634 | mylogger |  INFO: Code ends here!\r\n"
     ]
    }
   ],
   "source": [
    "!cat mycode_debug.log"
   ]
  },
  {
   "cell_type": "markdown",
   "metadata": {},
   "source": [
    "The output shows that the INFO message was printed out both on the console and in the file. There's no trace of the debug message in the file even if the level was set to DEBUG!!  \n",
    "Let's try to run it again but passing DEBUG as level.<br>\n",
    "I'm running the same script directly from the command line.\n",
    "\n"
   ]
  },
  {
   "cell_type": "code",
   "execution_count": 18,
   "metadata": {},
   "outputs": [
    {
     "name": "stdout",
     "output_type": "stream",
     "text": [
      "DEBUG:mylogger:Input values are 1 0, their respective types are <class 'int'> and <class 'str'>\r\n",
      "INFO:mylogger:Code ends here!\r\n"
     ]
    }
   ],
   "source": [
    "# the console output\n",
    "!python demo2.py > out.txt\n",
    "!cat out.txt"
   ]
  },
  {
   "cell_type": "code",
   "execution_count": 19,
   "metadata": {},
   "outputs": [
    {
     "name": "stdout",
     "output_type": "stream",
     "text": [
      "2018-10-04 08:44:49,444 | mylogger |  DEBUG: Input values are 1 0, their respective types are <class 'int'> and <class 'str'>\r\n",
      "2018-10-04 08:44:49,444 | mylogger |  INFO: Code ends here!\r\n"
     ]
    }
   ],
   "source": [
    "# the file output\n",
    "!cat mycode_debug.log"
   ]
  },
  {
   "cell_type": "markdown",
   "metadata": {},
   "source": [
    "Ok now we can see the debug message! We couldn't before because the *logger* level was setting the lowest possible level to INFO so even if we set the file level to DEBUG this was bumped up to INFO. <br>\n",
    "Luckily this can be easily fixed by setting the *logger* level to DEBUG, so now our file handler works as expected! The problem is that the debug messages are also showing on the console, this is why it is necessary to set a strem output handler if you what the file and the console to have different levels.\n",
    "\n"
   ]
  },
  {
   "cell_type": "code",
   "execution_count": 1,
   "metadata": {},
   "outputs": [
    {
     "name": "stderr",
     "output_type": "stream",
     "text": [
      "This function is a logging demo\n",
      "Code ends here!\n"
     ]
    }
   ],
   "source": [
    "%%script python3\n",
    "# I am using this to run this as a separate script so I don't end up with lots of loggers!!\n",
    "\n",
    "import logging\n",
    "\n",
    "def log_demo(level):\n",
    "    # start a logger\n",
    "    logger = logging.getLogger('mylogger')\n",
    "    # set the level passed as input, has to be logging.LEVEL\n",
    "    logger.setLevel(level)\n",
    "    # set a formatter to manage the output format of our handlers\n",
    "    formatter = logging.Formatter('%(asctime)s | %(name)s |  %(levelname)s: %(message)s')\n",
    "    \n",
    "    # add a handler to send INFO level messages to console\n",
    "    console_handler = logging.StreamHandler()\n",
    "    console_handler.setLevel(logging.INFO)\n",
    "    logger.addHandler(console_handler)\n",
    "    \n",
    "    # add a handler to send DEBUG level messages to file    \n",
    "    file_handler = logging.FileHandler('mycode_debug.log','w') \n",
    "    file_handler.setLevel(logging.DEBUG)\n",
    "    file_handler.setFormatter(formatter)\n",
    "    logger.addHandler(file_handler)\n",
    "    \n",
    "    logger.info('This function is a logging demo')\n",
    "    # add some debug messages\n",
    "    var1 = 1\n",
    "    var2 = '0'\n",
    "    logger.debug('Input values are %s %s, their respective types are %s and %s', var1, var2, type(var1), type(var2))\n",
    "    logger.info('Code ends here!')\n",
    "log_demo(logging.DEBUG)"
   ]
  },
  {
   "cell_type": "code",
   "execution_count": 2,
   "metadata": {},
   "outputs": [
    {
     "name": "stdout",
     "output_type": "stream",
     "text": [
      "2018-10-04 13:14:54,129 | mylogger |  INFO: This function is a logging demo\r\n",
      "2018-10-04 13:14:54,129 | mylogger |  DEBUG: Input values are 1 0, their respective types are <class 'int'> and <class 'str'>\r\n",
      "2018-10-04 13:14:54,129 | mylogger |  INFO: Code ends here!\r\n"
     ]
    }
   ],
   "source": [
    "#!python last_demo.py\n",
    "!cat mycode_debug.log"
   ]
  },
  {
   "cell_type": "markdown",
   "metadata": {},
   "source": [
    "Now we are going to get all the message at level INFO or above printed on the console and the same plus the DEBUG messages saved on the file! <br>\n",
    "NB I added a *'w'* to the file handler definition so it will create a new file each time.\n",
    "\n"
   ]
  },
  {
   "cell_type": "code",
   "execution_count": null,
   "metadata": {},
   "outputs": [],
   "source": []
  }
 ],
 "metadata": {
  "kernelspec": {
   "display_name": "Python [conda env:analysis27-18.07]",
   "language": "python",
   "name": "conda-env-analysis27-18.07-py"
  },
  "language_info": {
   "codemirror_mode": {
    "name": "ipython",
    "version": 2
   },
   "file_extension": ".py",
   "mimetype": "text/x-python",
   "name": "python",
   "nbconvert_exporter": "python",
   "pygments_lexer": "ipython2",
   "version": "2.7.15"
  }
 },
 "nbformat": 4,
 "nbformat_minor": 2
}
